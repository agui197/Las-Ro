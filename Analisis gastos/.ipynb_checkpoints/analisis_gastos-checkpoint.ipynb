{
 "cells": [
  {
   "cell_type": "markdown",
   "metadata": {},
   "source": [
    "# Analisis de los gastos\n",
    "## El objetivo de este analisis es encontrar incidencias o dispariedades, porcentajse y una manera de analizar rapidamente"
   ]
  },
  {
   "cell_type": "code",
   "execution_count": 267,
   "metadata": {},
   "outputs": [],
   "source": [
    "import numpy as np\n",
    "import pandas as pd\n",
    "import matplotlib.pyplot as plt\n",
    "from datetime import datetime, date, time, timedelta\n",
    "import calendar\n",
    "from functools import reduce\n",
    "import openpyxl\n",
    "import string"
   ]
  },
  {
   "cell_type": "markdown",
   "metadata": {},
   "source": [
    "## Descarga de los datos y limpieza"
   ]
  },
  {
   "cell_type": "code",
   "execution_count": 278,
   "metadata": {},
   "outputs": [],
   "source": [
    "data = pd.ExcelFile('prueba.xlsx')\n",
    "sheet_to_df_map = {}\n",
    "E=['C','I','P','T','EXTRAS']"
   ]
  },
  {
   "cell_type": "code",
   "execution_count": 269,
   "metadata": {},
   "outputs": [],
   "source": [
    "z=list(map(lambda sheet:data.parse(sheet),data.sheet_names))"
   ]
  },
  {
   "cell_type": "code",
   "execution_count": 280,
   "metadata": {},
   "outputs": [
    {
     "name": "stderr",
     "output_type": "stream",
     "text": [
      "C:\\ProgramData\\Anaconda3\\lib\\site-packages\\ipykernel_launcher.py:5: FutureWarning: \n",
      "Passing list-likes to .loc or [] with any missing label will raise\n",
      "KeyError in the future, you can use .reindex() as an alternative.\n",
      "\n",
      "See the documentation here:\n",
      "http://pandas.pydata.org/pandas-docs/stable/indexing.html#deprecate-loc-reindex-listlike\n",
      "  \"\"\"\n",
      "C:\\ProgramData\\Anaconda3\\lib\\site-packages\\pandas\\core\\indexing.py:1367: FutureWarning: \n",
      "Passing list-likes to .loc or [] with any missing label will raise\n",
      "KeyError in the future, you can use .reindex() as an alternative.\n",
      "\n",
      "See the documentation here:\n",
      "http://pandas.pydata.org/pandas-docs/stable/indexing.html#deprecate-loc-reindex-listlike\n",
      "  return self._getitem_tuple(key)\n"
     ]
    }
   ],
   "source": [
    "sheet_to_df_map['C']=list(map(lambda month:z[month].loc[z[month].iloc[:,0].isna()!=True,['CEDIS','Unnamed: 1']],range(len(z)-1)))\n",
    "sheet_to_df_map['I']=list(map(lambda month:z[month].loc[z[month].iloc[:,3].isna()!=True,['INGLATERRA','Unnamed: 4']],range(len(z)-1)))\n",
    "sheet_to_df_map['P']=list(map(lambda month:z[month].loc[z[month].iloc[:,9].isna()!=True,['PALOMAR','Unnamed: 10']],range(len(z)-1)))\n",
    "sheet_to_df_map['T']=list(map(lambda month:z[month].loc[z[month].iloc[:,6].isna()!=True,['TEPEYAC','Unnamed: 7']],range(len(z)-1)))\n",
    "sheet_to_df_map['EXTRAS']=list(map(lambda month:z[month].loc[z[month].iloc[:,12].isna()!=True,['BENEFICIARIO','Importe']],range(len(z)-1)))\n",
    "\n",
    "\n"
   ]
  },
  {
   "cell_type": "code",
   "execution_count": 282,
   "metadata": {},
   "outputs": [],
   "source": [
    "G_Men=list(map(lambda e:list(map(lambda month:np.sum(sheet_to_df_map[e][month].iloc[:,1]),range(len(z)-1))),E))"
   ]
  },
  {
   "cell_type": "code",
   "execution_count": 289,
   "metadata": {},
   "outputs": [
    {
     "data": {
      "text/plain": [
       "4630630.614"
      ]
     },
     "execution_count": 289,
     "metadata": {},
     "output_type": "execute_result"
    }
   ],
   "source": [
    "np.sum(G_Men)"
   ]
  },
  {
   "cell_type": "code",
   "execution_count": null,
   "metadata": {},
   "outputs": [],
   "source": []
  }
 ],
 "metadata": {
  "kernelspec": {
   "display_name": "Python 3",
   "language": "python",
   "name": "python3"
  },
  "language_info": {
   "codemirror_mode": {
    "name": "ipython",
    "version": 3
   },
   "file_extension": ".py",
   "mimetype": "text/x-python",
   "name": "python",
   "nbconvert_exporter": "python",
   "pygments_lexer": "ipython3",
   "version": "3.6.4"
  }
 },
 "nbformat": 4,
 "nbformat_minor": 2
}
