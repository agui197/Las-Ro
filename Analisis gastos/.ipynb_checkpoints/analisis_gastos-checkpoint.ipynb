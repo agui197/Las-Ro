{
 "cells": [
  {
   "cell_type": "markdown",
   "metadata": {},
   "source": [
    "# Analisis de los gastos\n",
    "## El objetivo de este analisis es encontrar incidencias o dispariedades, porcentajse y una manera de analizar rapidamente"
   ]
  },
  {
   "cell_type": "code",
   "execution_count": 2,
   "metadata": {},
   "outputs": [],
   "source": [
    "import numpy as np\n",
    "import pandas as pd\n",
    "import matplotlib.pyplot as plt\n",
    "from datetime import datetime, date, time, timedelta\n",
    "import calendar\n",
    "from functools import reduce\n",
    "import openpyxl\n",
    "import string"
   ]
  },
  {
   "cell_type": "markdown",
   "metadata": {},
   "source": [
    "## Descarga de los datos y limpieza"
   ]
  },
  {
   "cell_type": "code",
   "execution_count": 3,
   "metadata": {},
   "outputs": [],
   "source": [
    "data = pd.ExcelFile('prueba.xlsx')\n",
    "sheet_to_df_map = {}\n",
    "E=['C','I','P','T','EXTRAS']"
   ]
  },
  {
   "cell_type": "code",
   "execution_count": 4,
   "metadata": {},
   "outputs": [],
   "source": [
    "z=list(map(lambda sheet:data.parse(sheet),data.sheet_names))"
   ]
  },
  {
   "cell_type": "code",
   "execution_count": 40,
   "metadata": {},
   "outputs": [
    {
     "name": "stderr",
     "output_type": "stream",
     "text": [
      "C:\\ProgramData\\Anaconda3\\lib\\site-packages\\ipykernel_launcher.py:5: FutureWarning: \n",
      "Passing list-likes to .loc or [] with any missing label will raise\n",
      "KeyError in the future, you can use .reindex() as an alternative.\n",
      "\n",
      "See the documentation here:\n",
      "http://pandas.pydata.org/pandas-docs/stable/indexing.html#deprecate-loc-reindex-listlike\n",
      "  \"\"\"\n",
      "C:\\ProgramData\\Anaconda3\\lib\\site-packages\\pandas\\core\\indexing.py:1367: FutureWarning: \n",
      "Passing list-likes to .loc or [] with any missing label will raise\n",
      "KeyError in the future, you can use .reindex() as an alternative.\n",
      "\n",
      "See the documentation here:\n",
      "http://pandas.pydata.org/pandas-docs/stable/indexing.html#deprecate-loc-reindex-listlike\n",
      "  return self._getitem_tuple(key)\n"
     ]
    }
   ],
   "source": [
    "sheet_to_df_map['C']=list(map(lambda month:z[month].loc[z[month].iloc[:,0].isna()!=True,['CEDIS','Unnamed: 1']],range(len(z))))\n",
    "sheet_to_df_map['I']=list(map(lambda month:z[month].loc[z[month].iloc[:,3].isna()!=True,['INGLATERRA','Unnamed: 4']],range(len(z))))\n",
    "sheet_to_df_map['P']=list(map(lambda month:z[month].loc[z[month].iloc[:,9].isna()!=True,['PALOMAR','Unnamed: 10']],range(len(z))))\n",
    "sheet_to_df_map['T']=list(map(lambda month:z[month].loc[z[month].iloc[:,6].isna()!=True,['TEPEYAC','Unnamed: 7']],range(len(z))))\n",
    "sheet_to_df_map['EXTRAS']=list(map(lambda month:z[month].loc[z[month].iloc[:,12].isna()!=True,['BENEFICIARIO','Importe']],range(len(z))))\n",
    "\n",
    "\n"
   ]
  },
  {
   "cell_type": "markdown",
   "metadata": {},
   "source": [
    "# Gastos Mensuales"
   ]
  },
  {
   "cell_type": "code",
   "execution_count": 56,
   "metadata": {},
   "outputs": [],
   "source": [
    "#Todos los totales de gastos menuales\n",
    "G_Men=list(map(lambda e:list(map(lambda month:np.sum(sheet_to_df_map[e][month].iloc[:,1]),range(len(z)))),E))\n",
    "totales=list(map(lambda e:np.sum(G_Men[e]),range(len(G_Men))))"
   ]
  },
  {
   "cell_type": "markdown",
   "metadata": {},
   "source": [
    "# Encontrar algunos Porcentajes segun Categorias"
   ]
  },
  {
   "cell_type": "code",
   "execution_count": null,
   "metadata": {},
   "outputs": [],
   "source": [
    "categories=['COMISION BANCARIA','IMPUESTOS FEDERALES','IMSS','MANTENIMIENTO','NOMINA','OPERACIONES','RENTA']\n"
   ]
  },
  {
   "cell_type": "markdown",
   "metadata": {},
   "source": [
    "# Englobar los Gastos extra en su respectiva sucursal en los gastos"
   ]
  },
  {
   "cell_type": "code",
   "execution_count": null,
   "metadata": {},
   "outputs": [],
   "source": []
  },
  {
   "cell_type": "markdown",
   "metadata": {},
   "source": [
    "# Resultados"
   ]
  },
  {
   "cell_type": "code",
   "execution_count": 54,
   "metadata": {},
   "outputs": [
    {
     "data": {
      "text/html": [
       "<div>\n",
       "<style scoped>\n",
       "    .dataframe tbody tr th:only-of-type {\n",
       "        vertical-align: middle;\n",
       "    }\n",
       "\n",
       "    .dataframe tbody tr th {\n",
       "        vertical-align: top;\n",
       "    }\n",
       "\n",
       "    .dataframe thead th {\n",
       "        text-align: right;\n",
       "    }\n",
       "</style>\n",
       "<table border=\"1\" class=\"dataframe\">\n",
       "  <thead>\n",
       "    <tr style=\"text-align: right;\">\n",
       "      <th></th>\n",
       "      <th>CEDIS</th>\n",
       "      <th>INGLATERRA</th>\n",
       "      <th>PALOMAR</th>\n",
       "      <th>TEPEYAC</th>\n",
       "      <th>EXTRAS</th>\n",
       "    </tr>\n",
       "  </thead>\n",
       "  <tbody>\n",
       "    <tr>\n",
       "      <th>ENERO 18</th>\n",
       "      <td>93554.510</td>\n",
       "      <td>125527.560</td>\n",
       "      <td>41968.89</td>\n",
       "      <td>49941.39</td>\n",
       "      <td>200045.65</td>\n",
       "    </tr>\n",
       "    <tr>\n",
       "      <th>FEBRERO 18</th>\n",
       "      <td>96838.380</td>\n",
       "      <td>112930.154</td>\n",
       "      <td>46094.83</td>\n",
       "      <td>50727.54</td>\n",
       "      <td>179165.02</td>\n",
       "    </tr>\n",
       "    <tr>\n",
       "      <th>MARZO 18</th>\n",
       "      <td>88423.790</td>\n",
       "      <td>82771.798</td>\n",
       "      <td>48627.68</td>\n",
       "      <td>49538.43</td>\n",
       "      <td>239049.23</td>\n",
       "    </tr>\n",
       "    <tr>\n",
       "      <th>ABRIL 18</th>\n",
       "      <td>121227.920</td>\n",
       "      <td>116551.578</td>\n",
       "      <td>45613.37</td>\n",
       "      <td>57583.79</td>\n",
       "      <td>246476.74</td>\n",
       "    </tr>\n",
       "    <tr>\n",
       "      <th>MAYO 18</th>\n",
       "      <td>121041.290</td>\n",
       "      <td>95328.174</td>\n",
       "      <td>41552.94</td>\n",
       "      <td>47410.32</td>\n",
       "      <td>244286.52</td>\n",
       "    </tr>\n",
       "    <tr>\n",
       "      <th>JUNIO 18</th>\n",
       "      <td>121810.675</td>\n",
       "      <td>131175.271</td>\n",
       "      <td>53795.32</td>\n",
       "      <td>69131.71</td>\n",
       "      <td>243816.18</td>\n",
       "    </tr>\n",
       "    <tr>\n",
       "      <th>JULIO 18</th>\n",
       "      <td>162622.490</td>\n",
       "      <td>87811.004</td>\n",
       "      <td>42177.70</td>\n",
       "      <td>40172.20</td>\n",
       "      <td>427765.32</td>\n",
       "    </tr>\n",
       "    <tr>\n",
       "      <th>AGOSTO 18</th>\n",
       "      <td>111240.865</td>\n",
       "      <td>98867.745</td>\n",
       "      <td>41037.44</td>\n",
       "      <td>55825.54</td>\n",
       "      <td>301103.66</td>\n",
       "    </tr>\n",
       "    <tr>\n",
       "      <th>SEPTIEMBRE 18</th>\n",
       "      <td>160482.095</td>\n",
       "      <td>133921.654</td>\n",
       "      <td>60887.10</td>\n",
       "      <td>71988.81</td>\n",
       "      <td>283827.52</td>\n",
       "    </tr>\n",
       "  </tbody>\n",
       "</table>\n",
       "</div>"
      ],
      "text/plain": [
       "                    CEDIS  INGLATERRA   PALOMAR   TEPEYAC     EXTRAS\n",
       "ENERO 18        93554.510  125527.560  41968.89  49941.39  200045.65\n",
       "FEBRERO 18      96838.380  112930.154  46094.83  50727.54  179165.02\n",
       "MARZO 18        88423.790   82771.798  48627.68  49538.43  239049.23\n",
       "ABRIL 18       121227.920  116551.578  45613.37  57583.79  246476.74\n",
       "MAYO 18        121041.290   95328.174  41552.94  47410.32  244286.52\n",
       "JUNIO 18       121810.675  131175.271  53795.32  69131.71  243816.18\n",
       "JULIO 18       162622.490   87811.004  42177.70  40172.20  427765.32\n",
       "AGOSTO 18      111240.865   98867.745  41037.44  55825.54  301103.66\n",
       "SEPTIEMBRE 18  160482.095  133921.654  60887.10  71988.81  283827.52"
      ]
     },
     "execution_count": 54,
     "metadata": {},
     "output_type": "execute_result"
    }
   ],
   "source": [
    "df = pd.DataFrame(index=data.sheet_names,columns=['CEDIS', 'INGLATERRA','PALOMAR','TEPEYAC','EXTRAS'], dtype='float')\n",
    "df.iloc[:,0]=G_Men[0]\n",
    "df.iloc[:,1]=G_Men[1]\n",
    "df.iloc[:,2]=G_Men[2]\n",
    "df.iloc[:,3]=G_Men[3]\n",
    "df.iloc[:,4]=G_Men[4]\n",
    "df"
   ]
  },
  {
   "cell_type": "code",
   "execution_count": 57,
   "metadata": {},
   "outputs": [
    {
     "data": {
      "text/plain": [
       "[1077242.015, 984884.938, 421755.27, 492319.73000000004, 2365535.84]"
      ]
     },
     "execution_count": 57,
     "metadata": {},
     "output_type": "execute_result"
    }
   ],
   "source": [
    "totales"
   ]
  },
  {
   "cell_type": "code",
   "execution_count": null,
   "metadata": {},
   "outputs": [],
   "source": []
  }
 ],
 "metadata": {
  "kernelspec": {
   "display_name": "Python 3",
   "language": "python",
   "name": "python3"
  },
  "language_info": {
   "codemirror_mode": {
    "name": "ipython",
    "version": 3
   },
   "file_extension": ".py",
   "mimetype": "text/x-python",
   "name": "python",
   "nbconvert_exporter": "python",
   "pygments_lexer": "ipython3",
   "version": "3.6.4"
  }
 },
 "nbformat": 4,
 "nbformat_minor": 2
}
