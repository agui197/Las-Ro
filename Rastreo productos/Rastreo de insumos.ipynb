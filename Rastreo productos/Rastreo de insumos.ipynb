{
 "cells": [
  {
   "cell_type": "markdown",
   "metadata": {},
   "source": [
    "# Rastreo de insumos\n",
    "## Para las 3 sucursales analizar la cantidad que se envio durante una semana de domingo a sabado, restando las ventas.\n"
   ]
  },
  {
   "cell_type": "code",
   "execution_count": 1,
   "metadata": {},
   "outputs": [],
   "source": [
    "import numpy as np\n",
    "import pandas as pd\n",
    "import matplotlib.pyplot as plt\n",
    "from datetime import datetime, date, time, timedelta\n",
    "import calendar\n"
   ]
  },
  {
   "cell_type": "markdown",
   "metadata": {},
   "source": [
    "### Descarga de datos y creacion de diccionario"
   ]
  },
  {
   "cell_type": "code",
   "execution_count": 7,
   "metadata": {},
   "outputs": [],
   "source": [
    "Tdata = pd.ExcelFile('tepeyac.xlsx')\n",
    "Pdata = pd.ExcelFile('palomar.xlsx')\n",
    "Idata = pd.ExcelFile('inglaterra.xlsx')\n",
    "Idata.parse(-1)\n",
    "sheet_to_df_map = {}\n",
    "sheet_to_df_map['T']=Tdata.parse(-1)\n",
    "sheet_to_df_map['P']=Pdata.parse(-1)\n",
    "sheet_to_df_map['I']=Idata.parse(-1)\n",
    "\n"
   ]
  },
  {
   "cell_type": "code",
   "execution_count": 187,
   "metadata": {},
   "outputs": [],
   "source": [
    "def filtrar(lista:'En este caso la tabla con los productos vendidos de toda la semana como diccionario',\n",
    "            empresa:'La sucursal en especifico en la cual se filtrara',\n",
    "            posicion:'Indice para buscar',\n",
    "            comparacion:'Producto que se buscara'):\n",
    "    '''Esta funcion filtrara de la lista de productos vendidos de las sucursales, este sera un diccionario por lo cual buscara\n",
    "    el producto que se le especifique'''\n",
    "    if(comparacion in lista[empresa]['descripcion'][posicion]):\n",
    "        return posicion\n",
    "    else:\n",
    "        return -1\n",
    "    "
   ]
  },
  {
   "cell_type": "markdown",
   "metadata": {},
   "source": [
    "### Filtracion de un producto\n",
    "Esto funciona para cualquier producto, solo faltaria extender en el parametro de comparacion, un map para todos los productos que se desean buscar"
   ]
  },
  {
   "cell_type": "code",
   "execution_count": 250,
   "metadata": {},
   "outputs": [],
   "source": [
    "size=range(np.size(sheet_to_df_map['I']['descripcion']))\n",
    "result=list(map(lambda e:list(map(lambda n:filtrar(sheet_to_df_map,e,n,'BUCHE'),range(np.size(sheet_to_df_map[e]['descripcion'])))),['I','P','T']))\n",
    "result=list(map(lambda n:np.array(result[n])>0,range(3)))\n",
    "x=list(map(lambda e,n:sheet_to_df_map[e].iloc[result[n],:],['I','P','T'],range(3)))\n"
   ]
  },
  {
   "cell_type": "code",
   "execution_count": 362,
   "metadata": {},
   "outputs": [],
   "source": [
    "#Igual que en la linea anterior pero agregando una columna de zeros para la multiplicacion\n",
    "y=list(map(lambda e,n:sheet_to_df_map[e].iloc[result[n],:].join(pd.DataFrame(np.ones(np.size(result[n])))),['I','P','T'],range(3)))\n",
    "\n"
   ]
  },
  {
   "cell_type": "markdown",
   "metadata": {},
   "source": [
    "# Calculo del consumo del insumo\n",
    "Esto aun se esta pensando en una logica mas especifica segun el insumo que es cambiaria la funcion de consumo, se debe de pensar de manera mas general"
   ]
  },
  {
   "cell_type": "code",
   "execution_count": 313,
   "metadata": {},
   "outputs": [],
   "source": [
    "def consumo(producto,insumo):\n",
    "    if(\"TORTA\" in producto or \"SUSHITORTA\"in producto):\n",
    "        if(\"1/2 \"+insumo in producto):\n",
    "            return array.append(.06)\n",
    "        else:\n",
    "            return array.append(.12)\n",
    "    else:\n",
    "        if(\"1/2 \"+insumo in producto):\n",
    "            return array.append(.03)\n",
    "        else:\n",
    "            return array.append(.06)\n"
   ]
  },
  {
   "cell_type": "code",
   "execution_count": 334,
   "metadata": {},
   "outputs": [],
   "source": [
    "array=[]\n",
    "z=list(map(lambda p:consumo(p,'BUCHE'),sheet_to_df_map['I'].iloc[result[0],1]))\n",
    "y[0][0]*array"
   ]
  },
  {
   "cell_type": "code",
   "execution_count": null,
   "metadata": {},
   "outputs": [],
   "source": []
  }
 ],
 "metadata": {
  "kernelspec": {
   "display_name": "Python 3",
   "language": "python",
   "name": "python3"
  },
  "language_info": {
   "codemirror_mode": {
    "name": "ipython",
    "version": 3
   },
   "file_extension": ".py",
   "mimetype": "text/x-python",
   "name": "python",
   "nbconvert_exporter": "python",
   "pygments_lexer": "ipython3",
   "version": "3.6.4"
  }
 },
 "nbformat": 4,
 "nbformat_minor": 2
}
