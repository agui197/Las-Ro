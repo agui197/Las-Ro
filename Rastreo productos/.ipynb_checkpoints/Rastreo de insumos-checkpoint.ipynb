{
 "cells": [
  {
   "cell_type": "markdown",
   "metadata": {},
   "source": [
    "# Rastreo de insumos\n",
    "## Para las 3 sucursales analizar la cantidad que se envio durante una semana de domingo a sabado, restando las ventas.\n"
   ]
  },
  {
   "cell_type": "code",
   "execution_count": 1,
   "metadata": {},
   "outputs": [],
   "source": [
    "import numpy as np\n",
    "import pandas as pd\n",
    "import matplotlib.pyplot as plt\n",
    "from datetime import datetime, date, time, timedelta\n",
    "import calendar\n"
   ]
  },
  {
   "cell_type": "markdown",
   "metadata": {},
   "source": [
    "### Descarga de datos y creacion de diccionario"
   ]
  },
  {
   "cell_type": "code",
   "execution_count": 69,
   "metadata": {},
   "outputs": [],
   "source": [
    "Tdata = pd.ExcelFile('tepeyac.xlsx')\n",
    "Pdata = pd.ExcelFile('palomar.xlsx')\n",
    "Idata = pd.ExcelFile('inglaterra.xlsx')\n",
    "Idata.parse(-1)\n",
    "sheet_to_df_map = {}\n",
    "sheet_to_df_map['T']=Tdata.parse(-1)\n",
    "sheet_to_df_map['P']=Pdata.parse(-1)\n",
    "sheet_to_df_map['I']=Idata.parse(-1)\n",
    "\n"
   ]
  },
  {
   "cell_type": "code",
   "execution_count": 70,
   "metadata": {},
   "outputs": [],
   "source": [
    "def filtrar(lista:'En este caso la tabla con los productos vendidos de toda la semana como diccionario',\n",
    "            empresa:'La sucursal en especifico en la cual se filtrara',\n",
    "            posicion:'Indice para buscar',\n",
    "            comparacion:'Producto que se buscara'):\n",
    "    '''Esta funcion filtrara de la lista de productos vendidos de las sucursales, este sera un diccionario por lo cual buscara\n",
    "    el producto que se le especifique'''\n",
    "    if(comparacion in lista[empresa]['DESCRIPCION'][posicion]):\n",
    "        return posicion\n",
    "    else:\n",
    "        return -1\n",
    "    "
   ]
  },
  {
   "cell_type": "markdown",
   "metadata": {},
   "source": [
    "### Filtracion de un producto\n",
    "Esto funciona para cualquier producto, solo faltaria extender en el parametro de comparacion, un map para todos los productos que se desean buscar"
   ]
  },
  {
   "cell_type": "code",
   "execution_count": 71,
   "metadata": {},
   "outputs": [],
   "source": [
    "size=range(np.size(sheet_to_df_map['I']['DESCRIPCION']))\n",
    "result=list(map(lambda e:list(map(lambda n:filtrar(sheet_to_df_map,e,n,'BUCHE'),range(np.size(sheet_to_df_map[e]['DESCRIPCION'])))),['I','P','T']))\n",
    "result=list(map(lambda n:np.array(result[n])>0,range(3)))\n",
    "#x=list(map(lambda e,n:sheet_to_df_map[e].iloc[result[n],:],['I','P','T'],range(3)))\n",
    "#Igual que en la linea anterior pero agregando una columna de zeros para la multiplicacion\n",
    "y=list(map(lambda e,n:sheet_to_df_map[e].iloc[result[n],:].join(pd.DataFrame(np.ones(np.size(result[n])))),['I','P','T'],range(3)))\n"
   ]
  },
  {
   "cell_type": "markdown",
   "metadata": {},
   "source": [
    "### Filtracion de todos los productos deseados\n",
    "Esta funcion es bajo la misma logica que la anterior con la diferencia de que filtra toda una lista de productos deseados"
   ]
  },
  {
   "cell_type": "code",
   "execution_count": null,
   "metadata": {},
   "outputs": [],
   "source": [
    "E=['I','P','T']\n",
    "P=['BUCHE','PANCITA','LENGUA','PIERNA','ASADA','ARRACHERA','CHORIZO','MARLIN','CAMARON']\n",
    "result=list(map(lambda p:list(map(lambda e:list(map(lambda n:filtrar(sheet_to_df_map,e,n,p),range(np.size(sheet_to_df_map[e]['DESCRIPCION'])))),E)),P))\n",
    "result=list(map(lambda p:list(map(lambda n:np.array(result[p][n])>0,range(np.size(E)))),range(np.size(P))))\n",
    "y=list(map(lambda p:list(map(lambda e,n:sheet_to_df_map[e].iloc[result[p][n],:].join(pd.DataFrame(np.ones(np.size(result[p][n])))),['I','P','T'],range(np.size(E)))),range(np.size(P))))\n"
   ]
  },
  {
   "cell_type": "markdown",
   "metadata": {},
   "source": [
    "# Calculo del consumo del insumo\n",
    "Esto aun se esta pensando en una logica mas especifica segun el insumo que es cambiaria la funcion de consumo, se debe de pensar de manera mas general"
   ]
  },
  {
   "cell_type": "code",
   "execution_count": 78,
   "metadata": {},
   "outputs": [],
   "source": [
    "def consumo(producto:'Producto vendido',\n",
    "            insumo:'Insumo a considerar del producto vendido',\n",
    "            array:'arreglo vacio temporal para almacenar el consumo'):\n",
    "    '''Esta funcion calcula segun el producto que se vendio la cantidad de producto de cierto insumo que se consume'''\n",
    "    if(\"TORTA\" in producto or \"SUSHITORTA\"in producto):\n",
    "        if(\"1/2 \"+insumo in producto):\n",
    "            return array.append(.06)\n",
    "        else:\n",
    "            return array.append(.12)\n",
    "    else:\n",
    "        if(\"1/2 \"+insumo in producto):\n",
    "            return array.append(.03)\n",
    "        else:\n",
    "            return array.append(.06)\n"
   ]
  },
  {
   "cell_type": "code",
   "execution_count": 79,
   "metadata": {},
   "outputs": [],
   "source": [
    "def add_consumo(y:'La lista filtrada de los productos vendidos',\n",
    "                n:'El consecutivo para identificar el tamaño de la lista de cada sucursal',\n",
    "                e:'La empresa a la cual se le agregara el consumo',\n",
    "                array:'arreglo vacio temporal donde se guardara el consumo'):\n",
    "    '''Esta funcion agrega a la tabla de productos filtrada la cantidad de cierto insumo consumida, la funcion que utiliza es para \n",
    "    lo que estaria considerado consumo de carnitas sera necesario diseñar consumos diferentes para otros productos que no sigan esta\n",
    "    misma dinamica mas sin embargo todos los consumos se pueden agregar aqui'''\n",
    "    list(map(lambda p:consumo(p,'BUCHE',array),sheet_to_df_map[e].iloc[result[n],1]))\n",
    "    y[n][0]=y[n][0]*array*y[n]['CANTIDAD']\n",
    "    return array\n",
    "\n",
    "#En este punto el consumo de insumo ya esta considerado\n",
    "z=list(map(lambda n,e,a:add_consumo(y,n,e,a),range(3),['I','P','T'],[[],[],[]]))\n",
    "\n"
   ]
  },
  {
   "cell_type": "code",
   "execution_count": 114,
   "metadata": {},
   "outputs": [],
   "source": []
  },
  {
   "cell_type": "code",
   "execution_count": null,
   "metadata": {},
   "outputs": [],
   "source": []
  }
 ],
 "metadata": {
  "kernelspec": {
   "display_name": "Python 3",
   "language": "python",
   "name": "python3"
  },
  "language_info": {
   "codemirror_mode": {
    "name": "ipython",
    "version": 3
   },
   "file_extension": ".py",
   "mimetype": "text/x-python",
   "name": "python",
   "nbconvert_exporter": "python",
   "pygments_lexer": "ipython3",
   "version": "3.6.4"
  }
 },
 "nbformat": 4,
 "nbformat_minor": 2
}
