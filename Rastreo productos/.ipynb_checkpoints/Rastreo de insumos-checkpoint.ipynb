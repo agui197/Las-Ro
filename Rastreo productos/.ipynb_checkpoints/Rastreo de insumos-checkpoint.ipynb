{
 "cells": [
  {
   "cell_type": "markdown",
   "metadata": {},
   "source": [
    "# Rastreo de insumos\n",
    "## Para las 3 sucursales analizar la cantidad que se envio durante una semana de domingo a sabado, restando las ventas.\n"
   ]
  },
  {
   "cell_type": "code",
   "execution_count": 1,
   "metadata": {},
   "outputs": [],
   "source": [
    "import numpy as np\n",
    "import pandas as pd\n",
    "import matplotlib.pyplot as plt\n",
    "from datetime import datetime, date, time, timedelta\n",
    "import calendar\n",
    "from functools import reduce\n",
    "from openpyxl import load_workbook"
   ]
  },
  {
   "cell_type": "markdown",
   "metadata": {},
   "source": [
    "### Descarga de datos y creacion de diccionario"
   ]
  },
  {
   "cell_type": "code",
   "execution_count": 2,
   "metadata": {},
   "outputs": [],
   "source": [
    "Tdata = pd.ExcelFile('tepeyac.xlsx')\n",
    "Pdata = pd.ExcelFile('palomar.xlsx')\n",
    "Idata = pd.ExcelFile('inglaterra.xlsx')\n",
    "Idata.parse(-1)\n",
    "sheet_to_df_map = {}\n",
    "sheet_to_df_map['T']=Tdata.parse(-1)\n",
    "sheet_to_df_map['P']=Pdata.parse(-1)\n",
    "sheet_to_df_map['I']=Idata.parse(-1)\n",
    "E=['I','P','T']\n",
    "results={}\n",
    "results[0]=[]"
   ]
  },
  {
   "cell_type": "markdown",
   "metadata": {},
   "source": [
    "#### Funcion para filtrar"
   ]
  },
  {
   "cell_type": "code",
   "execution_count": 3,
   "metadata": {},
   "outputs": [],
   "source": [
    "def filtrar(lista:'En este caso la tabla con los productos vendidos de toda la semana como diccionario',\n",
    "            empresa:'La sucursal en especifico en la cual se filtrara',\n",
    "            posicion:'Indice para buscar',\n",
    "            comparacion:'Producto que se buscara',\n",
    "            lugar:'Lugar en donde se encuentra esa busqueda'):\n",
    "    '''Esta funcion filtrara de la lista de productos vendidos de las sucursales, este sera un diccionario por lo cual buscara\n",
    "    el producto que se le especifique'''\n",
    "    if(comparacion in lista[empresa][lugar][posicion]):\n",
    "        return posicion\n",
    "    else:\n",
    "        return -1\n",
    "    "
   ]
  },
  {
   "cell_type": "markdown",
   "metadata": {},
   "source": [
    "### Filtracion de un producto\n",
    "Esto funciona para cualquier producto, solo faltaria extender en el parametro de comparacion, un map para todos los productos que se desean buscar"
   ]
  },
  {
   "cell_type": "code",
   "execution_count": 4,
   "metadata": {},
   "outputs": [],
   "source": [
    "size=range(np.size(sheet_to_df_map['I']['DESCRIPCION']))\n",
    "result=list(map(lambda e:list(map(lambda n:filtrar(sheet_to_df_map,e,n,'BUCHE','DESCRIPCION'),range(np.size(sheet_to_df_map[e]['DESCRIPCION'])))),['I','P','T']))\n",
    "result=list(map(lambda n:np.array(result[n])>0,range(3)))\n",
    "#x=list(map(lambda e,n:sheet_to_df_map[e].iloc[result[n],:],['I','P','T'],range(3)))\n",
    "#Igual que en la linea anterior pero agregando una columna de zeros para la multiplicacion\n",
    "y=list(map(lambda e,n:sheet_to_df_map[e].iloc[result[n],:].join(pd.DataFrame(np.ones(np.size(result[n])))),['I','P','T'],range(3)))\n"
   ]
  },
  {
   "cell_type": "markdown",
   "metadata": {},
   "source": [
    "# Filtracion de todos los productos deseados que tambien necesitan de calcularse su consumo\n",
    "Esta funcion es bajo la misma logica que la anterior con la diferencia de que filtra toda una lista de productos deseados"
   ]
  },
  {
   "cell_type": "markdown",
   "metadata": {},
   "source": [
    "#### Funcion para elaborar arreglo filtrado"
   ]
  },
  {
   "cell_type": "code",
   "execution_count": 5,
   "metadata": {},
   "outputs": [],
   "source": [
    "def array(P,E,sheet_to_df_map,search):\n",
    "    result=list(map(lambda p:list(map(lambda e:list(map(lambda n:filtrar(sheet_to_df_map,e,n,p,search),range(np.size(sheet_to_df_map[e]['DESCRIPCION'])))),E)),P))\n",
    "    result=list(map(lambda p:list(map(lambda n:np.array(result[p][n])>0,range(np.size(E)))),range(np.size(P))))\n",
    "    y=list(map(lambda p:list(map(lambda e,n:sheet_to_df_map[e].iloc[result[p][n],:].join(pd.DataFrame(np.ones(np.size(result[p][n])))),E,range(np.size(E)))),range(np.size(P))))\n",
    "    return y"
   ]
  },
  {
   "cell_type": "markdown",
   "metadata": {},
   "source": [
    "# Calculo del consumo del insumo\n",
    "Funciones de consumo de insumo"
   ]
  },
  {
   "cell_type": "code",
   "execution_count": 6,
   "metadata": {},
   "outputs": [],
   "source": [
    "def consumo(producto:'Producto vendido',\n",
    "            insumo:'Insumo a considerar del producto vendido',\n",
    "            array:'arreglo vacio temporal para almacenar el consumo'):\n",
    "    '''Esta funcion calcula segun el producto que se vendio la cantidad de producto de cierto insumo que se consume'''\n",
    "    if(\"DORADITA VERDURAS ASADAS\" in producto or \"PANELA ASADA\" in producto or \"VERDURAS ASADAS\" in producto):\n",
    "        return array.append(0.0)\n",
    "    else:\n",
    "        if(\"DORADO PAPA\" in producto):\n",
    "            if(\"1/2 \"+insumo in producto):\n",
    "                return array.append(.03)\n",
    "            else:\n",
    "                return array.append(.06)\n",
    "        elif(\"PITUFO\" in producto):\n",
    "            if(\"1/2 \"+insumo in producto):\n",
    "                return array.append(.03)\n",
    "            else:\n",
    "                return array.append(.06)\n",
    "        elif(\"TORTA \" in producto or \"SUSHITORTA \"in producto or\"PAPA \" in producto or \"CHORIPAN \" in producto or \"GRINGA\" in producto or \"VAMPIRO\" in producto or \"GOBERNADOR GDE \" in producto):\n",
    "            if(\"1/2 \"+insumo in producto):\n",
    "                return array.append(.06)\n",
    "            else:\n",
    "                return array.append(.12)\n",
    "        else:\n",
    "            if(\"1/2 \"+insumo in producto or \"GOBERNADOR CH \"+insumo in producto):\n",
    "                return array.append(.03)\n",
    "            else:\n",
    "                return array.append(.06)  "
   ]
  },
  {
   "cell_type": "code",
   "execution_count": 7,
   "metadata": {},
   "outputs": [],
   "source": [
    "def add_consumo(y:'La lista filtrada de los productos vendidos',\n",
    "                n:'El consecutivo para identificar el tamaño de la lista de cada sucursal',\n",
    "                m:'El consecutivo para identificar que insumo de la lista deseada se esta usando',\n",
    "                array:'arreglo vacio temporal donde se guardara el consumo',\n",
    "                i:'insumo',\n",
    "                ):\n",
    "    '''Esta funcion agrega a la tabla de productos filtrada la cantidad de cierto insumo consumida, la funcion que utiliza es para \n",
    "    lo que estaria considerado consumo de carnitas sera necesario diseñar consumos diferentes para otros productos que no sigan esta\n",
    "    misma dinamica mas sin embargo todos los consumos se pueden agregar aqui'''\n",
    "    list(map(lambda p:consumo(p,i,array),y[m][n]['DESCRIPCION']))\n",
    "    y[m][n][0]=y[m][n][0]*array*y[m][n]['CANTIDAD']\n",
    "    return array"
   ]
  },
  {
   "cell_type": "markdown",
   "metadata": {},
   "source": [
    "## CARNES Y MARISCOS\n",
    "Falta corregir detalle con pozoles"
   ]
  },
  {
   "cell_type": "code",
   "execution_count": 8,
   "metadata": {},
   "outputs": [],
   "source": [
    "P=['BUCHE','PANCITA','LENGUA','PIERNA','ASADA','ARRACHERA','CHORIZO','MARLIN','CAMARON']\n",
    "y=array(P,E,sheet_to_df_map,'DESCRIPCION')\n",
    "# En este punto, el consumo de insumo ya esta considerado\n",
    "z=list(map(lambda m,i:list(map(lambda n,a:add_consumo(y,n,m,a,i),range(3),[[],[],[]])),range(np.size(P)),P))\n",
    "# Resultados\n",
    "consumption=pd.DataFrame(list(map(lambda p:list(map(lambda n: np.round(np.sum(y[p][n][0]),2),range(np.size(E)))),range(np.size(P)))))\n",
    "consumption.columns=E\n",
    "consumption.index=P\n",
    "temp=np.sum(consumption)\n",
    "temp=temp.rename('TOTAL')\n",
    "consumption=consumption.append(temp)\n",
    "results[1]=consumption\n"
   ]
  },
  {
   "cell_type": "markdown",
   "metadata": {},
   "source": [
    "# Filtracion de productos donde su consumo es igual a la cantidad vendida\n",
    "Para las cervezas no hay una distincion con las LATAS, estas son utilizadas en servicio a domicilio por lo cual cuando se compare contra los insumos surtidos estas deben ser consideradas como un total."
   ]
  },
  {
   "cell_type": "code",
   "execution_count": 9,
   "metadata": {},
   "outputs": [],
   "source": [
    "def consumoB(y:'La lista filtrada de los productos vendidos',\n",
    "             g:'El identificador para distinguir el insumo que se busca',\n",
    "             e:'El identificador para distinguir la empresa en la que busco el insumo',\n",
    "             p:'El identificador para distinguir contra que producto vendido se esta comparando el insumo'):\n",
    "    '''Esta funcion es la encargada de realizar el calculo del insumo en las bebidas en donde solo si es GDE es doble el insumo'''\n",
    "    if('GDE' in y[g][e]['DESCRIPCION'].iloc[p]):\n",
    "        y[g][e][0]=y[g][e]['CANTIDAD']*2\n",
    "    else:\n",
    "        y[g][e][0]=y[g][e]['CANTIDAD']\n",
    "    return 0"
   ]
  },
  {
   "cell_type": "markdown",
   "metadata": {},
   "source": [
    "## REFRESCOS"
   ]
  },
  {
   "cell_type": "code",
   "execution_count": 10,
   "metadata": {
    "scrolled": false
   },
   "outputs": [],
   "source": [
    "P=['AGUA NATURAL','AGUA MINERAL','COCA COLA BOTELLA','COCA COLA SIN AZUCAR','COCA LIGHT BOTELLA','FANTA BOTELLA',\n",
    "   'FRESCA BOTELLA','MANZANA LIFT BOTELLA','SPRITE BOTELLA','COCA COLA LATA','COCA LIGHT LATA','SPRITE LATA','SPRITE ZERO',\n",
    "   'RUSA REFRESCO CH MINERAL','RUSA REFRESCO CH SPRITE','RUSA REFRESCO CH SPRITE ZERO','RUSA REFRESCO CH COCA','RUSA REFRESCO CH FRESCA',\n",
    "   'RUSA REFRESCO GDE MINERAL','RUSA REFRESCO GDE SPRITE','RUSA REFRESCO GDE SPRITE ZERO','RUSA REFRESCO GDE COCA','RUSA REFRESCO GDE FRESCA']\n",
    "y=array(P,E,sheet_to_df_map,'DESCRIPCION')\n",
    "consumption=pd.DataFrame(list(map(lambda p:list(map(lambda n: np.round(np.sum(y[p][n]['CANTIDAD']),2),range(np.size(E)))),range(np.size(P)))))\n",
    "consumption.columns=E\n",
    "consumption.index=P\n",
    "consumption.iloc[1,:]+=consumption.iloc[13,:]\n",
    "consumption.iloc[8,:]+=consumption.iloc[14,:]\n",
    "consumption.iloc[12,:]+=consumption.iloc[15,:]\n",
    "consumption.iloc[2,:]+=consumption.iloc[16,:]\n",
    "consumption.iloc[6,:]+=consumption.iloc[17,:]\n",
    "\n",
    "consumption.iloc[1,:]+=consumption.iloc[18,:]*2\n",
    "consumption.iloc[8,:]+=consumption.iloc[19,:]*2\n",
    "consumption.iloc[12,:]+=consumption.iloc[20,:]*2\n",
    "consumption.iloc[2,:]+=consumption.iloc[21,:]*2\n",
    "consumption.iloc[6,:]+=consumption.iloc[22,:]*2\n",
    "consumption=consumption.iloc[0:13,:]\n",
    "temp=np.sum(consumption)\n",
    "temp=temp.rename('TOTAL')\n",
    "consumption=consumption.append(temp)\n",
    "results[2]=consumption\n"
   ]
  },
  {
   "cell_type": "markdown",
   "metadata": {},
   "source": [
    "## CERVEZAS"
   ]
  },
  {
   "cell_type": "code",
   "execution_count": 11,
   "metadata": {},
   "outputs": [],
   "source": [
    "#P=['BEAGU','BEJUG','BEREF','BERLA','BECER','BEMIC','BEMIG','BEMCC','BEMCG','BERCC','BERCG','BERRC','BERRG']\n",
    "P=['CORONA','CORONA LIGHT','MODELO ESPECIAL','NEGRA','PACIFICO','VICTORIA']\n",
    "y=array(P,E,sheet_to_df_map,'DESCRIPCION')\n",
    "z=list(map(lambda g:list(map(lambda e:list(map(lambda p:consumoB(y,g,e,p),range(np.size(y[g][e]['DESCRIPCION'])))),range(np.size(E)))),range(np.size(P))))\n",
    "consumption=pd.DataFrame(list(map(lambda p:list(map(lambda n: np.round(np.sum(y[p][n][0]),2),range(np.size(E)))),range(np.size(P)))))\n",
    "consumption.columns=E\n",
    "consumption.index=P\n",
    "temp=np.sum(consumption)\n",
    "temp=temp.rename('TOTAL')\n",
    "consumption=consumption.append(temp)\n",
    "results[3]=consumption"
   ]
  },
  {
   "cell_type": "markdown",
   "metadata": {},
   "source": [
    "## AGUAS"
   ]
  },
  {
   "cell_type": "code",
   "execution_count": 12,
   "metadata": {},
   "outputs": [],
   "source": [
    "P=['CEBADA','COCO','AGUA DE GUAYABA','HORCHATA','JAMAICA','AGUA DE LIMON','TAMARINDO']\n",
    "y=array(P,E,sheet_to_df_map,'DESCRIPCION')\n",
    "consumption=pd.DataFrame(list(map(lambda p:list(map(lambda n: np.round(np.sum(y[p][n]['CANTIDAD']),2),range(np.size(E)))),range(np.size(P)))))\n",
    "consumption.columns=E\n",
    "consumption.index=P\n",
    "temp=np.sum(consumption)\n",
    "temp=temp.rename('TOTAL')\n",
    "consumption=consumption.append(temp)\n",
    "results[4]=consumption"
   ]
  },
  {
   "cell_type": "markdown",
   "metadata": {},
   "source": [
    "## JUGOS"
   ]
  },
  {
   "cell_type": "code",
   "execution_count": 13,
   "metadata": {},
   "outputs": [],
   "source": [
    "P=['MANGO','BOING GUAYABA','FRESA']\n",
    "y=array(P,E,sheet_to_df_map,'DESCRIPCION')\n",
    "consumption=pd.DataFrame(list(map(lambda p:list(map(lambda n: np.round(np.sum(y[p][n]['CANTIDAD']),2),range(np.size(E)))),range(np.size(P)))))\n",
    "consumption.columns=E\n",
    "consumption.index=P\n",
    "temp=np.sum(consumption)\n",
    "temp=temp.rename('TOTAL')\n",
    "consumption=consumption.append(temp)\n",
    "results[5]=consumption"
   ]
  },
  {
   "cell_type": "markdown",
   "metadata": {},
   "source": [
    "## TORTAS Y PITUFOS"
   ]
  },
  {
   "cell_type": "code",
   "execution_count": 14,
   "metadata": {},
   "outputs": [],
   "source": [
    "P=['TORTA','PITUFO','CHORIPAN','CHORIPAN PITUFO']\n",
    "y=array(P,E,sheet_to_df_map,'DESCRIPCION')\n",
    "consumption=pd.DataFrame(list(map(lambda p:list(map(lambda n: np.round(np.sum(y[p][n]['CANTIDAD']),2),range(np.size(E)))),range(np.size(P)))))\n",
    "consumption.iloc[0,:]+=consumption.iloc[2,:]-consumption.iloc[3,:]\n",
    "consumption.columns=E\n",
    "consumption.index=['BOLILLO','BOLILLO MINI','CHORIPAN','CHORIPAN PITUFO']\n",
    "consumption=consumption.iloc[0:2,:]\n",
    "temp=np.sum(consumption)\n",
    "temp=temp.rename('TOTAL')\n",
    "consumption=consumption.append(temp)\n",
    "results[6]=consumption"
   ]
  },
  {
   "cell_type": "markdown",
   "metadata": {},
   "source": [
    "## TACOS DORADOS"
   ]
  },
  {
   "cell_type": "code",
   "execution_count": 15,
   "metadata": {},
   "outputs": [],
   "source": [
    "P=['DORADO PAPA','DORADO FRIJOL','DORADO REQUESON']\n",
    "y=array(P,E,sheet_to_df_map,'DESCRIPCION')\n",
    "consumption=pd.DataFrame(list(map(lambda p:list(map(lambda n: np.round(np.sum(y[p][n]['CANTIDAD']),2),range(np.size(E)))),range(np.size(P)))))\n",
    "consumption.columns=E\n",
    "consumption.index=P\n",
    "temp=np.sum(consumption)\n",
    "temp=temp.rename('TOTAL')\n",
    "consumption=consumption.append(temp)\n",
    "results[7]=consumption"
   ]
  },
  {
   "cell_type": "markdown",
   "metadata": {},
   "source": [
    "# CORTES \n",
    "## Para el proveedor de butchers lab que le interesa saber cuanto producto se vendio"
   ]
  },
  {
   "cell_type": "code",
   "execution_count": 16,
   "metadata": {},
   "outputs": [],
   "source": [
    "cortes={}\n",
    "cortes[0]=[]\n",
    "P=['CORTES']\n",
    "y=array(P,E,sheet_to_df_map,'GRUPO')\n",
    "z=list(map(lambda n:pd.DataFrame([y[0][n]['DESCRIPCION'],y[0][n]['CANTIDAD']]),range(3)))\n",
    "cortes[1]=z[0]\n",
    "cortes[2]=z[1]\n",
    "cortes[3]=z[2]\n",
    "cortes[1].index.name='I cortes'\n",
    "cortes[2].index.name='P cortes'\n",
    "cortes[3].index.name='T cortes'\n",
    "#Para primera vez\n",
    "#writer = pd.ExcelWriter('cortes.xlsx')\n",
    "#list(map(lambda n:cortes[n+1].to_excel(writer, sheet_name=str(date.today()), startcol=4*n),range(0,len(cortes)-1)))\n",
    "#writer.save()\n",
    "##\n",
    "path = r\"C:\\Users\\admin\\Desktop\\Las-Ro\\Rastreo productos\\cortes.xlsx\"\n",
    "book = load_workbook(path)\n",
    "writer = pd.ExcelWriter(path, engine = 'openpyxl')\n",
    "writer.book = book\n",
    "list(map(lambda n:cortes[n+1].to_excel(writer, sheet_name=str(date.today()), startcol=4*n),range(0,len(cortes)-1)))\n",
    "writer.save()"
   ]
  },
  {
   "cell_type": "markdown",
   "metadata": {},
   "source": [
    "# Resultados a excel\n",
    "No es necesario correr la parte de la creacion ya que esta servira solo para la primera vez, para futuras ocasiones se utilizara la seccion de codigo que busca el path del archivo"
   ]
  },
  {
   "cell_type": "code",
   "execution_count": 17,
   "metadata": {},
   "outputs": [],
   "source": [
    "#Para primera vez\n",
    "#writer = pd.ExcelWriter('output.xlsx')\n",
    "#list(map(lambda n:results[n+1].to_excel(writer, sheet_name=\"2018-09-01\", startcol=4*n),range(0,len(results)-1)))\n",
    "#writer.save()\n",
    "##\n",
    "path = r\"C:\\Users\\admin\\Desktop\\Las-Ro\\Rastreo productos\\output.xlsx\"\n",
    "book = load_workbook(path)\n",
    "writer = pd.ExcelWriter(path, engine = 'openpyxl')\n",
    "writer.book = book\n",
    "list(map(lambda n:results[n+1].to_excel(writer, sheet_name=str(date.today()), startcol=4*n),range(0,len(results)-1)))\n",
    "writer.save()"
   ]
  },
  {
   "cell_type": "code",
   "execution_count": null,
   "metadata": {},
   "outputs": [],
   "source": []
  },
  {
   "cell_type": "code",
   "execution_count": null,
   "metadata": {},
   "outputs": [],
   "source": []
  }
 ],
 "metadata": {
  "kernelspec": {
   "display_name": "Python 3",
   "language": "python",
   "name": "python3"
  },
  "language_info": {
   "codemirror_mode": {
    "name": "ipython",
    "version": 3
   },
   "file_extension": ".py",
   "mimetype": "text/x-python",
   "name": "python",
   "nbconvert_exporter": "python",
   "pygments_lexer": "ipython3",
   "version": "3.6.4"
  }
 },
 "nbformat": 4,
 "nbformat_minor": 2
}
