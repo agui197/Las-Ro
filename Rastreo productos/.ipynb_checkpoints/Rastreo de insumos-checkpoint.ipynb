{
 "cells": [
  {
   "cell_type": "markdown",
   "metadata": {},
   "source": [
    "# Rastreo de insumos\n",
    "## Para las 3 sucursales analizar la cantidad que se envio durante una semana de domingo a sabado, restando las ventas.\n"
   ]
  },
  {
   "cell_type": "code",
   "execution_count": 1,
   "metadata": {},
   "outputs": [],
   "source": [
    "import numpy as np\n",
    "import pandas as pd\n",
    "import matplotlib.pyplot as plt\n",
    "from datetime import datetime, date, time, timedelta\n",
    "import calendar\n"
   ]
  },
  {
   "cell_type": "markdown",
   "metadata": {},
   "source": [
    "### Descarga de datos y creacion de diccionario"
   ]
  },
  {
   "cell_type": "code",
   "execution_count": 76,
   "metadata": {},
   "outputs": [],
   "source": [
    "Tdata = pd.ExcelFile('tepeyac.xlsx')\n",
    "Pdata = pd.ExcelFile('palomar.xlsx')\n",
    "Idata = pd.ExcelFile('inglaterra.xlsx')\n",
    "Idata.parse(-1)\n",
    "sheet_to_df_map = {}\n",
    "sheet_to_df_map['T']=Tdata.parse(-1)\n",
    "sheet_to_df_map['P']=Pdata.parse(-1)\n",
    "sheet_to_df_map['I']=Idata.parse(-1)\n",
    "E=['I','P','T']"
   ]
  },
  {
   "cell_type": "markdown",
   "metadata": {},
   "source": [
    "#### Funcion para filtrar"
   ]
  },
  {
   "cell_type": "code",
   "execution_count": 12,
   "metadata": {},
   "outputs": [],
   "source": [
    "def filtrar(lista:'En este caso la tabla con los productos vendidos de toda la semana como diccionario',\n",
    "            empresa:'La sucursal en especifico en la cual se filtrara',\n",
    "            posicion:'Indice para buscar',\n",
    "            comparacion:'Producto que se buscara',\n",
    "            lugar:'Lugar en donde se encuentra esa busqueda'):\n",
    "    '''Esta funcion filtrara de la lista de productos vendidos de las sucursales, este sera un diccionario por lo cual buscara\n",
    "    el producto que se le especifique'''\n",
    "    if(comparacion in lista[empresa][lugar][posicion]):\n",
    "        return posicion\n",
    "    else:\n",
    "        return -1\n",
    "    "
   ]
  },
  {
   "cell_type": "markdown",
   "metadata": {},
   "source": [
    "### Filtracion de un producto\n",
    "Esto funciona para cualquier producto, solo faltaria extender en el parametro de comparacion, un map para todos los productos que se desean buscar"
   ]
  },
  {
   "cell_type": "code",
   "execution_count": 71,
   "metadata": {},
   "outputs": [],
   "source": [
    "size=range(np.size(sheet_to_df_map['I']['DESCRIPCION']))\n",
    "result=list(map(lambda e:list(map(lambda n:filtrar(sheet_to_df_map,e,n,'BUCHE','DESCRIPCION'),range(np.size(sheet_to_df_map[e]['DESCRIPCION'])))),['I','P','T']))\n",
    "result=list(map(lambda n:np.array(result[n])>0,range(3)))\n",
    "#x=list(map(lambda e,n:sheet_to_df_map[e].iloc[result[n],:],['I','P','T'],range(3)))\n",
    "#Igual que en la linea anterior pero agregando una columna de zeros para la multiplicacion\n",
    "y=list(map(lambda e,n:sheet_to_df_map[e].iloc[result[n],:].join(pd.DataFrame(np.ones(np.size(result[n])))),['I','P','T'],range(3)))\n"
   ]
  },
  {
   "cell_type": "markdown",
   "metadata": {},
   "source": [
    "# Filtracion de todos los productos deseados que tambien necesitan de calcularse su consumo\n",
    "Esta funcion es bajo la misma logica que la anterior con la diferencia de que filtra toda una lista de productos deseados"
   ]
  },
  {
   "cell_type": "markdown",
   "metadata": {},
   "source": [
    "#### Funcion para elaborar arreglo filtrado"
   ]
  },
  {
   "cell_type": "code",
   "execution_count": 108,
   "metadata": {},
   "outputs": [],
   "source": [
    "def array(P,E,sheet_to_df_map,search):\n",
    "    result=list(map(lambda p:list(map(lambda e:list(map(lambda n:filtrar(sheet_to_df_map,e,n,p,search),range(np.size(sheet_to_df_map[e]['DESCRIPCION'])))),E)),P))\n",
    "    result=list(map(lambda p:list(map(lambda n:np.array(result[p][n])>0,range(np.size(E)))),range(np.size(P))))\n",
    "    y=list(map(lambda p:list(map(lambda e,n:sheet_to_df_map[e].iloc[result[p][n],:].join(pd.DataFrame(np.ones(np.size(result[p][n])))),E,range(np.size(E)))),range(np.size(P))))\n",
    "    return y"
   ]
  },
  {
   "cell_type": "markdown",
   "metadata": {},
   "source": [
    "# Calculo del consumo del insumo\n",
    "Funciones de consumo de insumo"
   ]
  },
  {
   "cell_type": "code",
   "execution_count": 139,
   "metadata": {},
   "outputs": [],
   "source": [
    "def consumo(producto:'Producto vendido',\n",
    "            insumo:'Insumo a considerar del producto vendido',\n",
    "            array:'arreglo vacio temporal para almacenar el consumo'):\n",
    "    '''Esta funcion calcula segun el producto que se vendio la cantidad de producto de cierto insumo que se consume'''\n",
    "    if(\"DORADITA VERDURAS ASADAS\" in producto or \"PANELA ASADA\" in producto or \"VERDURAS ASADAS\" in producto):\n",
    "        return array.append(0.0)\n",
    "    else:\n",
    "        if(\"DORADO PAPA\" in producto):\n",
    "            if(\"1/2 \"+insumo in producto):\n",
    "                return array.append(.03)\n",
    "            else:\n",
    "                return array.append(.06)\n",
    "        elif(\"PITUFO\" in producto):\n",
    "            if(\"1/2 \"+insumo in producto):\n",
    "                return array.append(.03)\n",
    "            else:\n",
    "                return array.append(.06)\n",
    "        elif(\"TORTA \" in producto or \"SUSHITORTA \"in producto or\"PAPA \" in producto or \"CHORIPAN \" in producto or \"GRINGA\" in producto or \"VAMPIRO\" in producto or \"GOBERNADOR GDE \" in producto):\n",
    "            if(\"1/2 \"+insumo in producto):\n",
    "                return array.append(.06)\n",
    "            else:\n",
    "                return array.append(.12)\n",
    "        else:\n",
    "            if(\"1/2 \"+insumo in producto or \"GOBERNADOR CH \"+insumo in producto):\n",
    "                return array.append(.03)\n",
    "            else:\n",
    "                return array.append(.06)  "
   ]
  },
  {
   "cell_type": "code",
   "execution_count": 101,
   "metadata": {},
   "outputs": [],
   "source": [
    "def add_consumo(y:'La lista filtrada de los productos vendidos',\n",
    "                n:'El consecutivo para identificar el tamaño de la lista de cada sucursal',\n",
    "                m:'El consecutivo para identificar que insumo de la lista deseada se esta usando',\n",
    "                array:'arreglo vacio temporal donde se guardara el consumo',\n",
    "                i:'insumo',\n",
    "                ):\n",
    "    '''Esta funcion agrega a la tabla de productos filtrada la cantidad de cierto insumo consumida, la funcion que utiliza es para \n",
    "    lo que estaria considerado consumo de carnitas sera necesario diseñar consumos diferentes para otros productos que no sigan esta\n",
    "    misma dinamica mas sin embargo todos los consumos se pueden agregar aqui'''\n",
    "    list(map(lambda p:consumo(p,i,array),y[m][n]['DESCRIPCION']))\n",
    "    y[m][n][0]=y[m][n][0]*array*y[m][n]['CANTIDAD']\n",
    "    return array"
   ]
  },
  {
   "cell_type": "markdown",
   "metadata": {},
   "source": [
    "## CARNES Y MARISCOS\n",
    "Falta corregir detalle con pozoles"
   ]
  },
  {
   "cell_type": "code",
   "execution_count": 153,
   "metadata": {},
   "outputs": [
    {
     "data": {
      "text/html": [
       "<div>\n",
       "<style scoped>\n",
       "    .dataframe tbody tr th:only-of-type {\n",
       "        vertical-align: middle;\n",
       "    }\n",
       "\n",
       "    .dataframe tbody tr th {\n",
       "        vertical-align: top;\n",
       "    }\n",
       "\n",
       "    .dataframe thead th {\n",
       "        text-align: right;\n",
       "    }\n",
       "</style>\n",
       "<table border=\"1\" class=\"dataframe\">\n",
       "  <thead>\n",
       "    <tr style=\"text-align: right;\">\n",
       "      <th></th>\n",
       "      <th>I</th>\n",
       "      <th>P</th>\n",
       "      <th>T</th>\n",
       "    </tr>\n",
       "  </thead>\n",
       "  <tbody>\n",
       "    <tr>\n",
       "      <th>BUCHE</th>\n",
       "      <td>18.06</td>\n",
       "      <td>4.77</td>\n",
       "      <td>3.24</td>\n",
       "    </tr>\n",
       "    <tr>\n",
       "      <th>PANCITA</th>\n",
       "      <td>9.33</td>\n",
       "      <td>3.24</td>\n",
       "      <td>3.09</td>\n",
       "    </tr>\n",
       "    <tr>\n",
       "      <th>LENGUA</th>\n",
       "      <td>12.09</td>\n",
       "      <td>2.97</td>\n",
       "      <td>2.46</td>\n",
       "    </tr>\n",
       "    <tr>\n",
       "      <th>PIERNA</th>\n",
       "      <td>94.32</td>\n",
       "      <td>26.76</td>\n",
       "      <td>19.77</td>\n",
       "    </tr>\n",
       "    <tr>\n",
       "      <th>ASADA</th>\n",
       "      <td>20.82</td>\n",
       "      <td>13.38</td>\n",
       "      <td>6.21</td>\n",
       "    </tr>\n",
       "    <tr>\n",
       "      <th>ARRACHERA</th>\n",
       "      <td>12.18</td>\n",
       "      <td>7.44</td>\n",
       "      <td>3.30</td>\n",
       "    </tr>\n",
       "    <tr>\n",
       "      <th>CHORIZO</th>\n",
       "      <td>3.06</td>\n",
       "      <td>2.40</td>\n",
       "      <td>1.41</td>\n",
       "    </tr>\n",
       "    <tr>\n",
       "      <th>MARLIN</th>\n",
       "      <td>5.40</td>\n",
       "      <td>2.34</td>\n",
       "      <td>2.19</td>\n",
       "    </tr>\n",
       "    <tr>\n",
       "      <th>CAMARON</th>\n",
       "      <td>42.24</td>\n",
       "      <td>13.50</td>\n",
       "      <td>10.71</td>\n",
       "    </tr>\n",
       "  </tbody>\n",
       "</table>\n",
       "</div>"
      ],
      "text/plain": [
       "               I      P      T\n",
       "BUCHE      18.06   4.77   3.24\n",
       "PANCITA     9.33   3.24   3.09\n",
       "LENGUA     12.09   2.97   2.46\n",
       "PIERNA     94.32  26.76  19.77\n",
       "ASADA      20.82  13.38   6.21\n",
       "ARRACHERA  12.18   7.44   3.30\n",
       "CHORIZO     3.06   2.40   1.41\n",
       "MARLIN      5.40   2.34   2.19\n",
       "CAMARON    42.24  13.50  10.71"
      ]
     },
     "execution_count": 153,
     "metadata": {},
     "output_type": "execute_result"
    }
   ],
   "source": [
    "P=['BUCHE','PANCITA','LENGUA','PIERNA','ASADA','ARRACHERA','CHORIZO','MARLIN','CAMARON']\n",
    "y=array(P,E,sheet_to_df_map,'DESCRIPCION')\n",
    "# En este punto, el consumo de insumo ya esta considerado\n",
    "z=list(map(lambda m,i:list(map(lambda n,a:add_consumo(y,n,m,a,i),range(3),[[],[],[]])),range(np.size(P)),P))\n",
    "# Resultados\n",
    "consumption=pd.DataFrame(list(map(lambda p:list(map(lambda n: np.round(np.sum(y[p][n][0]),2),range(np.size(E)))),range(np.size(P)))))\n",
    "consumption.columns=E\n",
    "consumption.index=P\n",
    "consumption\n"
   ]
  },
  {
   "cell_type": "markdown",
   "metadata": {},
   "source": [
    "# Filtracion de productos donde su consumo es igual a la cantidad vendida\n",
    "Para las cervezas no hay una distincion con las LATAS, estas son utilizadas en servicio a domicilio por lo cual cuando se compare contra los insumos surtidos estas deben ser consideradas como un total."
   ]
  },
  {
   "cell_type": "code",
   "execution_count": null,
   "metadata": {},
   "outputs": [],
   "source": [
    "def consumoB(y:'La lista filtrada de los productos vendidos',\n",
    "             g:'El identificador para distinguir el insumo que se busca',\n",
    "             e:'El identificador para distinguir la empresa en la que busco el insumo',\n",
    "             p:'El identificador para distinguir contra que producto vendido se esta comparando el insumo'):\n",
    "    '''Esta funcion es la encargada de realizar el calculo del insumo en las bebidas en donde solo si es GDE es doble el insumo'''\n",
    "    if('GDE' in y[g][e]['DESCRIPCION'].iloc[p]):\n",
    "        y[g][e][0]=y[g][e]['CANTIDAD']*2\n",
    "    else:\n",
    "        y[g][e][0]=y[g][e]['CANTIDAD']\n",
    "    return 0"
   ]
  },
  {
   "cell_type": "markdown",
   "metadata": {},
   "source": [
    "## REFRESCOS"
   ]
  },
  {
   "cell_type": "code",
   "execution_count": 168,
   "metadata": {
    "scrolled": false
   },
   "outputs": [
    {
     "data": {
      "text/html": [
       "<div>\n",
       "<style scoped>\n",
       "    .dataframe tbody tr th:only-of-type {\n",
       "        vertical-align: middle;\n",
       "    }\n",
       "\n",
       "    .dataframe tbody tr th {\n",
       "        vertical-align: top;\n",
       "    }\n",
       "\n",
       "    .dataframe thead th {\n",
       "        text-align: right;\n",
       "    }\n",
       "</style>\n",
       "<table border=\"1\" class=\"dataframe\">\n",
       "  <thead>\n",
       "    <tr style=\"text-align: right;\">\n",
       "      <th></th>\n",
       "      <th>I</th>\n",
       "      <th>P</th>\n",
       "      <th>T</th>\n",
       "    </tr>\n",
       "  </thead>\n",
       "  <tbody>\n",
       "    <tr>\n",
       "      <th>AGUA NATURAL</th>\n",
       "      <td>43</td>\n",
       "      <td>15</td>\n",
       "      <td>7</td>\n",
       "    </tr>\n",
       "    <tr>\n",
       "      <th>AGUA MINERAL</th>\n",
       "      <td>29</td>\n",
       "      <td>15</td>\n",
       "      <td>10</td>\n",
       "    </tr>\n",
       "    <tr>\n",
       "      <th>COCA COLA BOTELLA</th>\n",
       "      <td>205</td>\n",
       "      <td>81</td>\n",
       "      <td>41</td>\n",
       "    </tr>\n",
       "    <tr>\n",
       "      <th>COCA COLA SIN AZUCAR</th>\n",
       "      <td>9</td>\n",
       "      <td>2</td>\n",
       "      <td>3</td>\n",
       "    </tr>\n",
       "    <tr>\n",
       "      <th>COCA LIGHT BOTELLA</th>\n",
       "      <td>101</td>\n",
       "      <td>41</td>\n",
       "      <td>21</td>\n",
       "    </tr>\n",
       "    <tr>\n",
       "      <th>FANTA BOTELLA</th>\n",
       "      <td>10</td>\n",
       "      <td>6</td>\n",
       "      <td>5</td>\n",
       "    </tr>\n",
       "    <tr>\n",
       "      <th>FRESCA BOTELLA</th>\n",
       "      <td>8</td>\n",
       "      <td>5</td>\n",
       "      <td>1</td>\n",
       "    </tr>\n",
       "    <tr>\n",
       "      <th>MANZANA LIFT BOTELLA</th>\n",
       "      <td>20</td>\n",
       "      <td>9</td>\n",
       "      <td>0</td>\n",
       "    </tr>\n",
       "    <tr>\n",
       "      <th>SPRITE BOTELLA</th>\n",
       "      <td>21</td>\n",
       "      <td>13</td>\n",
       "      <td>10</td>\n",
       "    </tr>\n",
       "    <tr>\n",
       "      <th>COCA COLA LATA</th>\n",
       "      <td>14</td>\n",
       "      <td>6</td>\n",
       "      <td>5</td>\n",
       "    </tr>\n",
       "    <tr>\n",
       "      <th>COCA LIGHT LATA</th>\n",
       "      <td>8</td>\n",
       "      <td>1</td>\n",
       "      <td>1</td>\n",
       "    </tr>\n",
       "    <tr>\n",
       "      <th>SPRITE LATA</th>\n",
       "      <td>4</td>\n",
       "      <td>1</td>\n",
       "      <td>0</td>\n",
       "    </tr>\n",
       "    <tr>\n",
       "      <th>SPRITE ZERO</th>\n",
       "      <td>10</td>\n",
       "      <td>6</td>\n",
       "      <td>5</td>\n",
       "    </tr>\n",
       "  </tbody>\n",
       "</table>\n",
       "</div>"
      ],
      "text/plain": [
       "                        I   P   T\n",
       "AGUA NATURAL           43  15   7\n",
       "AGUA MINERAL           29  15  10\n",
       "COCA COLA BOTELLA     205  81  41\n",
       "COCA COLA SIN AZUCAR    9   2   3\n",
       "COCA LIGHT BOTELLA    101  41  21\n",
       "FANTA BOTELLA          10   6   5\n",
       "FRESCA BOTELLA          8   5   1\n",
       "MANZANA LIFT BOTELLA   20   9   0\n",
       "SPRITE BOTELLA         21  13  10\n",
       "COCA COLA LATA         14   6   5\n",
       "COCA LIGHT LATA         8   1   1\n",
       "SPRITE LATA             4   1   0\n",
       "SPRITE ZERO            10   6   5"
      ]
     },
     "execution_count": 168,
     "metadata": {},
     "output_type": "execute_result"
    }
   ],
   "source": [
    "P=['AGUA NATURAL','AGUA MINERAL','COCA COLA BOTELLA','COCA COLA SIN AZUCAR','COCA LIGHT BOTELLA','FANTA BOTELLA',\n",
    "   'FRESCA BOTELLA','MANZANA LIFT BOTELLA','SPRITE BOTELLA','COCA COLA LATA','COCA LIGHT LATA','SPRITE LATA','SPRITE ZERO',\n",
    "   'RUSA REFRESCO CH MINERAL','RUSA REFRESCO CH SPRITE','RUSA REFRESCO CH SPRITE ZERO','RUSA REFRESCO CH COCA','RUSA REFRESCO CH FRESCA',\n",
    "   'RUSA REFRESCO GDE MINERAL','RUSA REFRESCO GDE SPRITE','RUSA REFRESCO GDE SPRITE ZERO','RUSA REFRESCO GDE COCA','RUSA REFRESCO GDE FRESCA']\n",
    "y=array(P,E,sheet_to_df_map,'DESCRIPCION')\n",
    "consumption=pd.DataFrame(list(map(lambda p:list(map(lambda n: np.round(np.sum(y[p][n]['CANTIDAD']),2),range(np.size(E)))),range(np.size(P)))))\n",
    "consumption.columns=E\n",
    "consumption.index=P\n",
    "consumption.iloc[1,:]+=consumption.iloc[13,:]\n",
    "consumption.iloc[8,:]+=consumption.iloc[14,:]\n",
    "consumption.iloc[12,:]+=consumption.iloc[15,:]\n",
    "consumption.iloc[2,:]+=consumption.iloc[16,:]\n",
    "consumption.iloc[6,:]+=consumption.iloc[17,:]\n",
    "\n",
    "consumption.iloc[1,:]+=consumption.iloc[18,:]*2\n",
    "consumption.iloc[8,:]+=consumption.iloc[19,:]*2\n",
    "consumption.iloc[12,:]+=consumption.iloc[20,:]*2\n",
    "consumption.iloc[2,:]+=consumption.iloc[21,:]*2\n",
    "consumption.iloc[6,:]+=consumption.iloc[22,:]*2\n",
    "\n",
    "consumption.iloc[0:13,:]\n"
   ]
  },
  {
   "cell_type": "markdown",
   "metadata": {},
   "source": [
    "## CERVEZAS"
   ]
  },
  {
   "cell_type": "code",
   "execution_count": 114,
   "metadata": {},
   "outputs": [
    {
     "data": {
      "text/html": [
       "<div>\n",
       "<style scoped>\n",
       "    .dataframe tbody tr th:only-of-type {\n",
       "        vertical-align: middle;\n",
       "    }\n",
       "\n",
       "    .dataframe tbody tr th {\n",
       "        vertical-align: top;\n",
       "    }\n",
       "\n",
       "    .dataframe thead th {\n",
       "        text-align: right;\n",
       "    }\n",
       "</style>\n",
       "<table border=\"1\" class=\"dataframe\">\n",
       "  <thead>\n",
       "    <tr style=\"text-align: right;\">\n",
       "      <th></th>\n",
       "      <th>I</th>\n",
       "      <th>P</th>\n",
       "      <th>T</th>\n",
       "    </tr>\n",
       "  </thead>\n",
       "  <tbody>\n",
       "    <tr>\n",
       "      <th>CORONA</th>\n",
       "      <td>398</td>\n",
       "      <td>62</td>\n",
       "      <td>50</td>\n",
       "    </tr>\n",
       "    <tr>\n",
       "      <th>CORONA LIGHT</th>\n",
       "      <td>106</td>\n",
       "      <td>13</td>\n",
       "      <td>36</td>\n",
       "    </tr>\n",
       "    <tr>\n",
       "      <th>MODELO ESPECIAL</th>\n",
       "      <td>28</td>\n",
       "      <td>14</td>\n",
       "      <td>12</td>\n",
       "    </tr>\n",
       "    <tr>\n",
       "      <th>NEGRA</th>\n",
       "      <td>58</td>\n",
       "      <td>22</td>\n",
       "      <td>7</td>\n",
       "    </tr>\n",
       "    <tr>\n",
       "      <th>PACIFICO</th>\n",
       "      <td>100</td>\n",
       "      <td>31</td>\n",
       "      <td>38</td>\n",
       "    </tr>\n",
       "    <tr>\n",
       "      <th>VICTORIA</th>\n",
       "      <td>69</td>\n",
       "      <td>9</td>\n",
       "      <td>13</td>\n",
       "    </tr>\n",
       "  </tbody>\n",
       "</table>\n",
       "</div>"
      ],
      "text/plain": [
       "                   I   P   T\n",
       "CORONA           398  62  50\n",
       "CORONA LIGHT     106  13  36\n",
       "MODELO ESPECIAL   28  14  12\n",
       "NEGRA             58  22   7\n",
       "PACIFICO         100  31  38\n",
       "VICTORIA          69   9  13"
      ]
     },
     "execution_count": 114,
     "metadata": {},
     "output_type": "execute_result"
    }
   ],
   "source": [
    "#P=['BEAGU','BEJUG','BEREF','BERLA','BECER','BEMIC','BEMIG','BEMCC','BEMCG','BERCC','BERCG','BERRC','BERRG']\n",
    "P=['CORONA','CORONA LIGHT','MODELO ESPECIAL','NEGRA','PACIFICO','VICTORIA']\n",
    "y=array(P,E,sheet_to_df_map,'DESCRIPCION')\n",
    "z=list(map(lambda g:list(map(lambda e:list(map(lambda p:consumoB(y,g,e,p),range(np.size(y[g][e]['DESCRIPCION'])))),range(np.size(E)))),range(np.size(P))))\n",
    "consumption=pd.DataFrame(list(map(lambda p:list(map(lambda n: np.round(np.sum(y[p][n][0]),2),range(np.size(E)))),range(np.size(P)))))\n",
    "consumption.columns=E\n",
    "consumption.index=P\n",
    "consumption"
   ]
  },
  {
   "cell_type": "markdown",
   "metadata": {},
   "source": [
    "## AGUAS"
   ]
  },
  {
   "cell_type": "code",
   "execution_count": 125,
   "metadata": {},
   "outputs": [
    {
     "data": {
      "text/html": [
       "<div>\n",
       "<style scoped>\n",
       "    .dataframe tbody tr th:only-of-type {\n",
       "        vertical-align: middle;\n",
       "    }\n",
       "\n",
       "    .dataframe tbody tr th {\n",
       "        vertical-align: top;\n",
       "    }\n",
       "\n",
       "    .dataframe thead th {\n",
       "        text-align: right;\n",
       "    }\n",
       "</style>\n",
       "<table border=\"1\" class=\"dataframe\">\n",
       "  <thead>\n",
       "    <tr style=\"text-align: right;\">\n",
       "      <th></th>\n",
       "      <th>I</th>\n",
       "      <th>P</th>\n",
       "      <th>T</th>\n",
       "    </tr>\n",
       "  </thead>\n",
       "  <tbody>\n",
       "    <tr>\n",
       "      <th>CEBADA</th>\n",
       "      <td>54</td>\n",
       "      <td>0</td>\n",
       "      <td>0</td>\n",
       "    </tr>\n",
       "    <tr>\n",
       "      <th>COCO</th>\n",
       "      <td>41</td>\n",
       "      <td>19</td>\n",
       "      <td>24</td>\n",
       "    </tr>\n",
       "    <tr>\n",
       "      <th>AGUA DE GUAYABA</th>\n",
       "      <td>64</td>\n",
       "      <td>24</td>\n",
       "      <td>21</td>\n",
       "    </tr>\n",
       "    <tr>\n",
       "      <th>HORCHATA</th>\n",
       "      <td>161</td>\n",
       "      <td>47</td>\n",
       "      <td>24</td>\n",
       "    </tr>\n",
       "    <tr>\n",
       "      <th>JAMAICA</th>\n",
       "      <td>81</td>\n",
       "      <td>34</td>\n",
       "      <td>24</td>\n",
       "    </tr>\n",
       "    <tr>\n",
       "      <th>AGUA DE LIMON</th>\n",
       "      <td>83</td>\n",
       "      <td>43</td>\n",
       "      <td>23</td>\n",
       "    </tr>\n",
       "    <tr>\n",
       "      <th>TAMARINDO</th>\n",
       "      <td>58</td>\n",
       "      <td>19</td>\n",
       "      <td>18</td>\n",
       "    </tr>\n",
       "  </tbody>\n",
       "</table>\n",
       "</div>"
      ],
      "text/plain": [
       "                   I   P   T\n",
       "CEBADA            54   0   0\n",
       "COCO              41  19  24\n",
       "AGUA DE GUAYABA   64  24  21\n",
       "HORCHATA         161  47  24\n",
       "JAMAICA           81  34  24\n",
       "AGUA DE LIMON     83  43  23\n",
       "TAMARINDO         58  19  18"
      ]
     },
     "execution_count": 125,
     "metadata": {},
     "output_type": "execute_result"
    }
   ],
   "source": [
    "P=['CEBADA','COCO','AGUA DE GUAYABA','HORCHATA','JAMAICA','AGUA DE LIMON','TAMARINDO']\n",
    "y=array(P,E,sheet_to_df_map,'DESCRIPCION')\n",
    "consumption=pd.DataFrame(list(map(lambda p:list(map(lambda n: np.round(np.sum(y[p][n]['CANTIDAD']),2),range(np.size(E)))),range(np.size(P)))))\n",
    "consumption.columns=E\n",
    "consumption.index=P\n",
    "consumption"
   ]
  },
  {
   "cell_type": "markdown",
   "metadata": {},
   "source": [
    "## JUGOS"
   ]
  },
  {
   "cell_type": "code",
   "execution_count": 129,
   "metadata": {},
   "outputs": [
    {
     "data": {
      "text/html": [
       "<div>\n",
       "<style scoped>\n",
       "    .dataframe tbody tr th:only-of-type {\n",
       "        vertical-align: middle;\n",
       "    }\n",
       "\n",
       "    .dataframe tbody tr th {\n",
       "        vertical-align: top;\n",
       "    }\n",
       "\n",
       "    .dataframe thead th {\n",
       "        text-align: right;\n",
       "    }\n",
       "</style>\n",
       "<table border=\"1\" class=\"dataframe\">\n",
       "  <thead>\n",
       "    <tr style=\"text-align: right;\">\n",
       "      <th></th>\n",
       "      <th>I</th>\n",
       "      <th>P</th>\n",
       "      <th>T</th>\n",
       "    </tr>\n",
       "  </thead>\n",
       "  <tbody>\n",
       "    <tr>\n",
       "      <th>MANGO</th>\n",
       "      <td>16</td>\n",
       "      <td>8</td>\n",
       "      <td>10</td>\n",
       "    </tr>\n",
       "    <tr>\n",
       "      <th>BOING GUAYABA</th>\n",
       "      <td>17</td>\n",
       "      <td>9</td>\n",
       "      <td>6</td>\n",
       "    </tr>\n",
       "    <tr>\n",
       "      <th>FRESA</th>\n",
       "      <td>5</td>\n",
       "      <td>7</td>\n",
       "      <td>2</td>\n",
       "    </tr>\n",
       "  </tbody>\n",
       "</table>\n",
       "</div>"
      ],
      "text/plain": [
       "                I  P   T\n",
       "MANGO          16  8  10\n",
       "BOING GUAYABA  17  9   6\n",
       "FRESA           5  7   2"
      ]
     },
     "execution_count": 129,
     "metadata": {},
     "output_type": "execute_result"
    }
   ],
   "source": [
    "P=['MANGO','BOING GUAYABA','FRESA']\n",
    "y=array(P,E,sheet_to_df_map,'DESCRIPCION')\n",
    "consumption=pd.DataFrame(list(map(lambda p:list(map(lambda n: np.round(np.sum(y[p][n]['CANTIDAD']),2),range(np.size(E)))),range(np.size(P)))))\n",
    "consumption.columns=E\n",
    "consumption.index=P\n",
    "consumption"
   ]
  },
  {
   "cell_type": "markdown",
   "metadata": {},
   "source": [
    "## TORTAS Y PITUFOS"
   ]
  },
  {
   "cell_type": "code",
   "execution_count": 146,
   "metadata": {},
   "outputs": [
    {
     "data": {
      "text/html": [
       "<div>\n",
       "<style scoped>\n",
       "    .dataframe tbody tr th:only-of-type {\n",
       "        vertical-align: middle;\n",
       "    }\n",
       "\n",
       "    .dataframe tbody tr th {\n",
       "        vertical-align: top;\n",
       "    }\n",
       "\n",
       "    .dataframe thead th {\n",
       "        text-align: right;\n",
       "    }\n",
       "</style>\n",
       "<table border=\"1\" class=\"dataframe\">\n",
       "  <thead>\n",
       "    <tr style=\"text-align: right;\">\n",
       "      <th></th>\n",
       "      <th>I</th>\n",
       "      <th>P</th>\n",
       "      <th>T</th>\n",
       "    </tr>\n",
       "  </thead>\n",
       "  <tbody>\n",
       "    <tr>\n",
       "      <th>BOLILLO</th>\n",
       "      <td>771</td>\n",
       "      <td>181</td>\n",
       "      <td>176</td>\n",
       "    </tr>\n",
       "    <tr>\n",
       "      <th>BOLILLO MINI</th>\n",
       "      <td>338</td>\n",
       "      <td>69</td>\n",
       "      <td>65</td>\n",
       "    </tr>\n",
       "  </tbody>\n",
       "</table>\n",
       "</div>"
      ],
      "text/plain": [
       "                I    P    T\n",
       "BOLILLO       771  181  176\n",
       "BOLILLO MINI  338   69   65"
      ]
     },
     "execution_count": 146,
     "metadata": {},
     "output_type": "execute_result"
    }
   ],
   "source": [
    "P=['TORTA','PITUFO','CHORIPAN','CHORIPAN PITUFO']\n",
    "y=array(P,E,sheet_to_df_map,'DESCRIPCION')\n",
    "consumption=pd.DataFrame(list(map(lambda p:list(map(lambda n: np.round(np.sum(y[p][n]['CANTIDAD']),2),range(np.size(E)))),range(np.size(P)))))\n",
    "consumption.iloc[0,:]+=consumption.iloc[2,:]-consumption.iloc[3,:]\n",
    "consumption.columns=E\n",
    "consumption.index=['BOLILLO','BOLILLO MINI','CHORIPAN','CHORIPAN PITUFO']\n",
    "consumption.iloc[0:2,:]"
   ]
  },
  {
   "cell_type": "markdown",
   "metadata": {},
   "source": [
    "## TACOS DORADOS"
   ]
  },
  {
   "cell_type": "code",
   "execution_count": 147,
   "metadata": {},
   "outputs": [
    {
     "data": {
      "text/html": [
       "<div>\n",
       "<style scoped>\n",
       "    .dataframe tbody tr th:only-of-type {\n",
       "        vertical-align: middle;\n",
       "    }\n",
       "\n",
       "    .dataframe tbody tr th {\n",
       "        vertical-align: top;\n",
       "    }\n",
       "\n",
       "    .dataframe thead th {\n",
       "        text-align: right;\n",
       "    }\n",
       "</style>\n",
       "<table border=\"1\" class=\"dataframe\">\n",
       "  <thead>\n",
       "    <tr style=\"text-align: right;\">\n",
       "      <th></th>\n",
       "      <th>I</th>\n",
       "      <th>P</th>\n",
       "      <th>T</th>\n",
       "    </tr>\n",
       "  </thead>\n",
       "  <tbody>\n",
       "    <tr>\n",
       "      <th>DORADO PAPA</th>\n",
       "      <td>350</td>\n",
       "      <td>86</td>\n",
       "      <td>93</td>\n",
       "    </tr>\n",
       "    <tr>\n",
       "      <th>DORADO FRIJOL</th>\n",
       "      <td>303</td>\n",
       "      <td>64</td>\n",
       "      <td>58</td>\n",
       "    </tr>\n",
       "    <tr>\n",
       "      <th>DORADO REQUESON</th>\n",
       "      <td>184</td>\n",
       "      <td>48</td>\n",
       "      <td>35</td>\n",
       "    </tr>\n",
       "  </tbody>\n",
       "</table>\n",
       "</div>"
      ],
      "text/plain": [
       "                   I   P   T\n",
       "DORADO PAPA      350  86  93\n",
       "DORADO FRIJOL    303  64  58\n",
       "DORADO REQUESON  184  48  35"
      ]
     },
     "execution_count": 147,
     "metadata": {},
     "output_type": "execute_result"
    }
   ],
   "source": [
    "P=['DORADO PAPA','DORADO FRIJOL','DORADO REQUESON']\n",
    "y=array(P,E,sheet_to_df_map,'DESCRIPCION')\n",
    "consumption=pd.DataFrame(list(map(lambda p:list(map(lambda n: np.round(np.sum(y[p][n]['CANTIDAD']),2),range(np.size(E)))),range(np.size(P)))))\n",
    "consumption.columns=E\n",
    "consumption.index=P\n",
    "consumption"
   ]
  },
  {
   "cell_type": "code",
   "execution_count": null,
   "metadata": {},
   "outputs": [],
   "source": []
  }
 ],
 "metadata": {
  "kernelspec": {
   "display_name": "Python 3",
   "language": "python",
   "name": "python3"
  },
  "language_info": {
   "codemirror_mode": {
    "name": "ipython",
    "version": 3
   },
   "file_extension": ".py",
   "mimetype": "text/x-python",
   "name": "python",
   "nbconvert_exporter": "python",
   "pygments_lexer": "ipython3",
   "version": "3.6.4"
  }
 },
 "nbformat": 4,
 "nbformat_minor": 2
}
