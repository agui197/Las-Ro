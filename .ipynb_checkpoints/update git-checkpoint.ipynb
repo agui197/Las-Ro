{
 "cells": [
  {
   "cell_type": "markdown",
   "metadata": {},
   "source": [
    "# Actualizar repositorio de GitHub\n",
    "### Esto con la intencion de poder leer la informacion directa de SQL y actualizar en github"
   ]
  },
  {
   "cell_type": "code",
   "execution_count": 2,
   "metadata": {},
   "outputs": [],
   "source": [
    "from github import Github\n",
    "g = Github(\"agui197\", \"avril197AZX\")\n",
    "repo = g.get_repo(\"agui197/Las-Ro\")\n",
    "import github3\n",
    "files = ['Power Pivot/test.py']\n",
    "gh = github3.login(username='agui197', password='avril197AZX')\n",
    "repository = gh.repository(owner='agui197',repository='Las-Ro')\n",
    "for file_info in files:\n",
    "    with open(file_info, 'rb') as fd:\n",
    "        contents = fd.read()\n",
    "    conte = repo.get_contents(\"Power Pivot/test.py\", ref=\"master\")\n",
    "    repo.delete_file(conte.path, \"remove test\", conte.sha, branch=\"master\")\n",
    "    repository.create_file(\n",
    "        path=file_info,\n",
    "        message='Start tracking {!r}'.format(file_info),\n",
    "        content=contents,\n",
    "    )"
   ]
  },
  {
   "cell_type": "code",
   "execution_count": null,
   "metadata": {},
   "outputs": [],
   "source": []
  }
 ],
 "metadata": {
  "kernelspec": {
   "display_name": "Python 3",
   "language": "python",
   "name": "python3"
  },
  "language_info": {
   "codemirror_mode": {
    "name": "ipython",
    "version": 3
   },
   "file_extension": ".py",
   "mimetype": "text/x-python",
   "name": "python",
   "nbconvert_exporter": "python",
   "pygments_lexer": "ipython3",
   "version": "3.6.4"
  }
 },
 "nbformat": 4,
 "nbformat_minor": 2
}
