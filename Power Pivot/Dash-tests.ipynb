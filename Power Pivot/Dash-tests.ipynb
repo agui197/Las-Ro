{
 "cells": [
  {
   "cell_type": "markdown",
   "metadata": {},
   "source": [
    "# Como el trabajo con DASH no funciono se usara plotly para los graficos interactivos"
   ]
  },
  {
   "cell_type": "code",
   "execution_count": null,
   "metadata": {
    "scrolled": true
   },
   "outputs": [],
   "source": [
    "import plotly.graph_objs as go\n",
    "fig= go.FigureWidget(\n",
    "    data=[\n",
    "        dict(\n",
    "            type='scattergl',\n",
    "            x=[1,2,3,4,5],\n",
    "            y=[3,6,8,4,7],\n",
    "            mode='markers',\n",
    "        )\n",
    "    ],\n",
    ")\n",
    "fig.layout.title=\"Ejemplo\"\n",
    "fig.layout.xaxis.title=\"X\"\n",
    "fig.layout.yaxis.title=\"Y\"\n",
    "fig2=fig\n",
    "test=fig.add_scatter(x=[1,2,3,4,5],y=[9,8,9,8,9])\n",
    "from ipywidgets import HBox,VBox\n",
    "VBox([fig,fig2,HBox([fig2,fig])])"
   ]
  },
  {
   "cell_type": "code",
   "execution_count": null,
   "metadata": {
    "scrolled": true
   },
   "outputs": [],
   "source": [
    "from plotly.offline import iplot, init_notebook_mode\n",
    "import plotly.graph_objs as go\n",
    "import plotly.io as pio\n",
    "\n",
    "import os\n",
    "import numpy as np\n",
    "init_notebook_mode(connected=True)\n",
    "N = 100\n",
    "x = np.random.rand(N)\n",
    "y = np.random.rand(N)\n",
    "colors = np.random.rand(N)\n",
    "sz = np.random.rand(N)*30\n",
    "\n",
    "fig = go.Figure()\n",
    "fig.add_scatter(x=x,\n",
    "                y=y,\n",
    "                mode='markers',\n",
    "                marker={'size': sz,\n",
    "                        'color': colors,\n",
    "                        'opacity': 0.6,\n",
    "                        'colorscale': 'Viridis'\n",
    "                       });\n",
    "iplot(fig)"
   ]
  },
  {
   "cell_type": "code",
   "execution_count": null,
   "metadata": {
    "scrolled": true
   },
   "outputs": [],
   "source": [
    "import plotly.offline as off\n",
    "\n",
    "off.init_notebook_mode(connected=True)\n",
    "\n",
    "subject = ['Moe','Larry','Curly','Moe','Larry','Curly','Moe','Larry','Curly','Moe','Larry','Curly']\n",
    "score = [1,6,2,8,2,9,4,5,1,5,2,8]\n",
    "\n",
    "data = [dict(\n",
    "  type = 'scatter',\n",
    "  x = subject,\n",
    "  y = score,\n",
    "  mode = 'markers',\n",
    "  transforms = [dict(\n",
    "    type = 'groupby',\n",
    "    groups = subject,\n",
    "    styles = [\n",
    "        dict(target = 'Moe', value = dict(marker = dict(color = 'blue'))),\n",
    "        dict(target = 'Larry', value = dict(marker = dict(color = 'red'))),\n",
    "        dict(target = 'Curly', value = dict(marker = dict(color = 'black')))\n",
    "    ]\n",
    "  )]\n",
    ")]\n",
    "\n",
    "off.iplot({'data': data}, validate=False)"
   ]
  },
  {
   "cell_type": "markdown",
   "metadata": {},
   "source": [
    "# Para leer los datos directos del sistema se utilizaran las librerias para manejar archivos XML"
   ]
  },
  {
   "cell_type": "code",
   "execution_count": 115,
   "metadata": {},
   "outputs": [
    {
     "data": {
      "text/html": [
       "<script type=\"text/javascript\">window.PlotlyConfig = {MathJaxConfig: 'local'};</script><script type=\"text/javascript\">if (window.MathJax) {MathJax.Hub.Config({SVG: {font: \"STIX-Web\"}});}</script><script>requirejs.config({paths: { 'plotly': ['https://cdn.plot.ly/plotly-latest.min']},});if(!window._Plotly) {require(['plotly'],function(plotly) {window._Plotly=plotly;});}</script>"
      ],
      "text/vnd.plotly.v1+html": [
       "<script type=\"text/javascript\">window.PlotlyConfig = {MathJaxConfig: 'local'};</script><script type=\"text/javascript\">if (window.MathJax) {MathJax.Hub.Config({SVG: {font: \"STIX-Web\"}});}</script><script>requirejs.config({paths: { 'plotly': ['https://cdn.plot.ly/plotly-latest.min']},});if(!window._Plotly) {require(['plotly'],function(plotly) {window._Plotly=plotly;});}</script>"
      ]
     },
     "metadata": {},
     "output_type": "display_data"
    }
   ],
   "source": [
    "import pandas as pd\n",
    "import numpy as np\n",
    "import xml.etree.ElementTree\n",
    "import datetime\n",
    "import matplotlib.pyplot as plt\n",
    "import distutils\n",
    "from distutils import util\n",
    "import plotly.graph_objs as go\n",
    "from plotly.offline import iplot, init_notebook_mode\n",
    "import plotly.io as pio\n",
    "import os\n",
    "from ipywidgets import interactive, HBox, VBox\n",
    "\n",
    "\n",
    "init_notebook_mode(connected=True)\n",
    "\n",
    "def process_data(x):\n",
    "    e = xml.etree.ElementTree.parse(x).getroot()\n",
    "    df=pd.DataFrame(list(map(lambda y:list(map(lambda x: x.text,y)),e.getchildren())))\n",
    "    cols=list(map(lambda x:x.tag,e.getchildren()[1].getchildren()))\n",
    "    df.columns=cols\n",
    "    df.index=df.iloc[:,0]\n",
    "    #df=df.drop('usuarioapertura',axis=1)\n",
    "    df=np.transpose(np.transpose(df).loc[~pd.isnull(np.transpose(df.iloc[1,:]))]).iloc[1:len(df),:]\n",
    "    return df"
   ]
  },
  {
   "cell_type": "code",
   "execution_count": 116,
   "metadata": {},
   "outputs": [
    {
     "name": "stderr",
     "output_type": "stream",
     "text": [
      "C:\\ProgramData\\Anaconda3\\lib\\site-packages\\pandas\\core\\frame.py:6211: FutureWarning:\n",
      "\n",
      "Sorting because non-concatenation axis is not aligned. A future version\n",
      "of pandas will change to not sort by default.\n",
      "\n",
      "To accept the future behavior, pass 'sort=False'.\n",
      "\n",
      "To retain the current behavior and silence the warning, pass 'sort=True'.\n",
      "\n",
      "\n"
     ]
    }
   ],
   "source": [
    "df=process_data('cheques_I.xml')\n",
    "df1=process_data('cheques_P.xml')\n",
    "df2=process_data('cheques_T.xml')\n",
    "df=df.append(df1).append(df2)\n",
    "df=df.drop('usuarioapertura',axis=1)\n",
    "df\n",
    "cheqdet=process_data('cheqdet.xml')"
   ]
  },
  {
   "cell_type": "markdown",
   "metadata": {},
   "source": [
    "### Convertir datos extraidos del archivo cheques en datos manejables"
   ]
  },
  {
   "cell_type": "code",
   "execution_count": 121,
   "metadata": {},
   "outputs": [],
   "source": [
    "df['fecha']=list(map(lambda x:np.datetime64(x),df['fecha']))\n",
    "df['cierre']=list(map(lambda x:np.datetime64(x),df['cierre']))\n",
    "#x.astype('M8[ms]').astype('O').hour\n",
    "df['total']=list(map(lambda x:float(x),df['total']))\n",
    "df['totalalimentos']=list(map(lambda x:float(x),df['totalalimentos']))\n",
    "df['totalbebidas']=list(map(lambda x:float(x),df['totalbebidas']))\n",
    "df['totalotros']=list(map(lambda x:float(x),df['totalotros']))\n",
    "df['totaldescuentoalimentos']=list(map(lambda x:float(x),df['totaldescuentoalimentos']))\n",
    "df['totaldescuentobebidas']=list(map(lambda x:float(x),df['totaldescuentobebidas']))\n",
    "df['totaldescuentobebidas']=list(map(lambda x:float(x),df['totaldescuentobebidas']))\n",
    "df['efectivo']=list(map(lambda x:float(x),df['efectivo']))\n",
    "df['tarjeta']=list(map(lambda x:float(x),df['tarjeta']))\n",
    "df['nopersonas']=list(map(lambda x:int(x),df['nopersonas']))\n",
    "df['cancelado']=list(map(lambda x:distutils.util.strtobool(x),df['cancelado']))\n",
    "df['idempresa']=list(map(lambda x:int(x),df['idempresa']))\n",
    "\n",
    "#df.columns.tolist()"
   ]
  },
  {
   "cell_type": "markdown",
   "metadata": {},
   "source": [
    "## Convertir datos extraidos del archivo cheqdet en datos manejables"
   ]
  },
  {
   "cell_type": "code",
   "execution_count": 119,
   "metadata": {},
   "outputs": [],
   "source": [
    "cheqdet['hora']=list(map(lambda x:np.datetime64(x),cheqdet['hora']))\n",
    "#x.astype('M8[ms]').astype('O').hour\n",
    "cheqdet['precio']=list(map(lambda x:float(x),cheqdet['precio']))\n",
    "cheqdet['cantidad']=list(map(lambda x:float(x),cheqdet['cantidad']))\n",
    "cheqdet['movimiento']=list(map(lambda x:float(x),cheqdet['movimiento']))\n"
   ]
  },
  {
   "cell_type": "markdown",
   "metadata": {},
   "source": [
    "# DashBoard"
   ]
  },
  {
   "cell_type": "code",
   "execution_count": 268,
   "metadata": {},
   "outputs": [
    {
     "data": {
      "application/vnd.jupyter.widget-view+json": {
       "model_id": "fd09b8bf66734a388683f96bb1ad35c3",
       "version_major": 2,
       "version_minor": 0
      },
      "text/html": [
       "<p>Failed to display Jupyter Widget of type <code>VBox</code>.</p>\n",
       "<p>\n",
       "  If you're reading this message in the Jupyter Notebook or JupyterLab Notebook, it may mean\n",
       "  that the widgets JavaScript is still loading. If this message persists, it\n",
       "  likely means that the widgets JavaScript library is either not installed or\n",
       "  not enabled. See the <a href=\"https://ipywidgets.readthedocs.io/en/stable/user_install.html\">Jupyter\n",
       "  Widgets Documentation</a> for setup instructions.\n",
       "</p>\n",
       "<p>\n",
       "  If you're reading this message in another frontend (for example, a static\n",
       "  rendering on GitHub or <a href=\"https://nbviewer.jupyter.org/\">NBViewer</a>),\n",
       "  it may mean that your frontend doesn't currently support widgets.\n",
       "</p>\n"
      ],
      "text/plain": [
       "VBox(children=(interactive(children=(IntSlider(value=15, description='HOUR', max=22, min=9), IntSlider(value=6, description='MONTH', max=12, min=1), Output()), _dom_classes=('widget-interact',)), interactive(children=(IntSlider(value=6, description='MONTH', max=12, min=1), IntSlider(value=2018, description='YEAR', max=2019, min=2018), Output()), _dom_classes=('widget-interact',))))"
      ]
     },
     "metadata": {},
     "output_type": "display_data"
    }
   ],
   "source": [
    "\n",
    "\n",
    "class plotting:\n",
    "    \n",
    "    def __init__(self,df,cheqdet):\n",
    "        self.fig=go.Figure()\n",
    "        self.df=df\n",
    "        self.original=df\n",
    "        self.cheqdet=cheqdet\n",
    "        self.Ocheqdet=cheqdet\n",
    "        \n",
    "    def update_Date(self,HOUR,MONTH):\n",
    "        self.df=self.original\n",
    "        self.df = self.df[[a and b for a,b in zip(list(map(lambda x: x.month==MONTH,self.df.fecha)),list(map(lambda x: x.hour==HOUR,self.df.fecha)))]]\n",
    "        self.cheques_graph()\n",
    "        \n",
    "    def update_Suc(self,MONTH,YEAR):\n",
    "        self.cheqdet=self.Ocheqdet\n",
    "        self.cheqdet = self.cheqdet[[a and b for a,b in zip(list(map(lambda x: x.month==MONTH,self.cheqdet.hora)),list(map(lambda x: x.year==YEAR,self.cheqdet.hora)))]]\n",
    "        self.cheqdet_graph()\n",
    "        \n",
    "    def cheques_graph(self):\n",
    "        self.fig=go.Figure()\n",
    "        self.fig.add_pie=self.fig.add_pie(labels=list(map(lambda x:x.weekday(),self.df.fecha)),values=self.df.total,);\n",
    "        iplot(self.fig)\n",
    "        \n",
    "        self.Enterprise_pie=go.Figure()\n",
    "        self.Enterprise_pie.add_pie=self.Enterprise_pie.add_pie(labels=self.df.idempresa,values=self.df.total,);\n",
    "        iplot(self.Enterprise_pie)\n",
    "    \n",
    "    def cheqdet_graph(self):\n",
    "        self.Product_pie=go.Figure()\n",
    "        self.Product_pie.add_pie=self.Product_pie.add_pie(labels=self.cheqdet.idproducto,values=self.cheqdet.cantidad,);\n",
    "        iplot(self.Product_pie)\n",
    "        \n",
    "        \n",
    "pie_chart=plotting(df,cheqdet)\n",
    "freq_slider = interactive(pie_chart.update_Date, HOUR=(9, 22, 1),MONTH=(1, 12, 1))\n",
    "suc_slider = interactive(pie_chart.update_Suc,MONTH=(1, 12, 1), YEAR=(2018, 2019, 1))\n",
    "freq_slider\n",
    "display(VBox([freq_slider,suc_slider]))\n"
   ]
  },
  {
   "cell_type": "code",
   "execution_count": 97,
   "metadata": {},
   "outputs": [
    {
     "data": {
      "text/plain": [
       "[False, False]"
      ]
     },
     "execution_count": 97,
     "metadata": {},
     "output_type": "execute_result"
    }
   ],
   "source": [
    "x=[False,True] \n",
    "y=[False,True]\n",
    "z=[False,False]\n",
    "[a and b for a,b in zip([a and b for a, b in zip(x, y)],z)]"
   ]
  },
  {
   "cell_type": "markdown",
   "metadata": {},
   "source": [
    "### Codigo para los top 5 productos"
   ]
  },
  {
   "cell_type": "code",
   "execution_count": 220,
   "metadata": {},
   "outputs": [],
   "source": [
    "temp=cheqdet[['idproducto','cantidad']]\n",
    "temp.index=temp.idproducto\n",
    "a=(list(map(lambda x:np.sum(temp.loc[x].cantidad),list(np.unique(temp.index)))))\n",
    "b=list(np.unique(temp.index))\n",
    "result=np.transpose(pd.DataFrame([a,b])).sort_values([0],ascending=[0]).head()"
   ]
  },
  {
   "cell_type": "code",
   "execution_count": 234,
   "metadata": {},
   "outputs": [
    {
     "data": {
      "application/vnd.plotly.v1+json": {
       "config": {
        "linkText": "Export to plot.ly",
        "plotlyServerURL": "https://plot.ly",
        "showLink": false
       },
       "data": [
        {
         "cells": {
          "align": "center",
          "fill": {
           "color": "#F5F8FF"
          },
          "font": {
           "color": "black",
           "size": 11
          },
          "values": [
           [
            90,
            48,
            45,
            42,
            36
           ],
           [
            "TPTCL05",
            "LTDDP01",
            "BEAGU04",
            "BEREF02",
            "LTDDF01"
           ]
          ]
         },
         "header": {
          "align": "center",
          "fill": {
           "color": "#C2D4FF"
          },
          "font": {
           "color": "black",
           "size": 12
          },
          "line": {
           "color": "black"
          },
          "values": [
           "cantidad",
           "top5"
          ]
         },
         "type": "table",
         "uid": "79a87df9-4e0e-4b4a-8f29-cc75941483f3"
        }
       ],
       "layout": {}
      },
      "text/html": [
       "<div id=\"f847f2c2-81f2-47f3-b027-06b918d729b6\" style=\"height: 525px; width: 100%;\" class=\"plotly-graph-div\"></div><script type=\"text/javascript\">require([\"plotly\"], function(Plotly) { window.PLOTLYENV=window.PLOTLYENV || {};window.PLOTLYENV.BASE_URL=\"https://plot.ly\";Plotly.newPlot(\"f847f2c2-81f2-47f3-b027-06b918d729b6\", [{\"cells\": {\"align\": \"center\", \"fill\": {\"color\": \"#F5F8FF\"}, \"font\": {\"color\": \"black\", \"size\": 11}, \"values\": [[90.0, 48.0, 45.0, 42.0, 36.0], [\"TPTCL05\", \"LTDDP01\", \"BEAGU04\", \"BEREF02\", \"LTDDF01\"]]}, \"header\": {\"align\": \"center\", \"fill\": {\"color\": \"#C2D4FF\"}, \"font\": {\"color\": \"black\", \"size\": 12}, \"line\": {\"color\": \"black\"}, \"values\": [\"cantidad\", \"top5\"]}, \"type\": \"table\", \"uid\": \"d23689fe-6b13-4b64-93ef-f500f5cfde8e\"}], {}, {\"showLink\": false, \"linkText\": \"Export to plot.ly\", \"plotlyServerURL\": \"https://plot.ly\"})});</script><script type=\"text/javascript\">window.addEventListener(\"resize\", function(){window._Plotly.Plots.resize(document.getElementById(\"f847f2c2-81f2-47f3-b027-06b918d729b6\"));});</script>"
      ],
      "text/vnd.plotly.v1+html": [
       "<div id=\"f847f2c2-81f2-47f3-b027-06b918d729b6\" style=\"height: 525px; width: 100%;\" class=\"plotly-graph-div\"></div><script type=\"text/javascript\">require([\"plotly\"], function(Plotly) { window.PLOTLYENV=window.PLOTLYENV || {};window.PLOTLYENV.BASE_URL=\"https://plot.ly\";Plotly.newPlot(\"f847f2c2-81f2-47f3-b027-06b918d729b6\", [{\"cells\": {\"align\": \"center\", \"fill\": {\"color\": \"#F5F8FF\"}, \"font\": {\"color\": \"black\", \"size\": 11}, \"values\": [[90.0, 48.0, 45.0, 42.0, 36.0], [\"TPTCL05\", \"LTDDP01\", \"BEAGU04\", \"BEREF02\", \"LTDDF01\"]]}, \"header\": {\"align\": \"center\", \"fill\": {\"color\": \"#C2D4FF\"}, \"font\": {\"color\": \"black\", \"size\": 12}, \"line\": {\"color\": \"black\"}, \"values\": [\"cantidad\", \"top5\"]}, \"type\": \"table\", \"uid\": \"d23689fe-6b13-4b64-93ef-f500f5cfde8e\"}], {}, {\"showLink\": false, \"linkText\": \"Export to plot.ly\", \"plotlyServerURL\": \"https://plot.ly\"})});</script><script type=\"text/javascript\">window.addEventListener(\"resize\", function(){window._Plotly.Plots.resize(document.getElementById(\"f847f2c2-81f2-47f3-b027-06b918d729b6\"));});</script>"
      ]
     },
     "metadata": {},
     "output_type": "display_data"
    }
   ],
   "source": [
    "trace0 = go.Table(\n",
    "  header = dict(\n",
    "    values = list(['cantidad','top5']),\n",
    "    line = dict(color = 'black'),\n",
    "    fill = dict(color='#C2D4FF'),\n",
    "    align = 'center',\n",
    "    font = dict(color = 'black', size = 12)\n",
    "  ),\n",
    "  cells = dict(\n",
    "    values = [result[0],result[1]],\n",
    "    align = 'center',\n",
    "    font = dict(color = 'black', size = 11),\n",
    "    fill = dict(color='#F5F8FF')\n",
    "    ))\n",
    "\n",
    "data = [trace0]\n",
    "\n",
    "iplot(data, filename = \"cell variable color\")"
   ]
  },
  {
   "cell_type": "code",
   "execution_count": 278,
   "metadata": {},
   "outputs": [
    {
     "data": {
      "text/html": [
       "<div>\n",
       "<style scoped>\n",
       "    .dataframe tbody tr th:only-of-type {\n",
       "        vertical-align: middle;\n",
       "    }\n",
       "\n",
       "    .dataframe tbody tr th {\n",
       "        vertical-align: top;\n",
       "    }\n",
       "\n",
       "    .dataframe thead th {\n",
       "        text-align: right;\n",
       "    }\n",
       "</style>\n",
       "<table border=\"1\" class=\"dataframe\">\n",
       "  <thead>\n",
       "    <tr style=\"text-align: right;\">\n",
       "      <th></th>\n",
       "      <th>0</th>\n",
       "      <th>1</th>\n",
       "    </tr>\n",
       "  </thead>\n",
       "  <tbody>\n",
       "    <tr>\n",
       "      <th>169</th>\n",
       "      <td>5000</td>\n",
       "      <td>TPTCL05</td>\n",
       "    </tr>\n",
       "    <tr>\n",
       "      <th>148</th>\n",
       "      <td>1800</td>\n",
       "      <td>TPDMA02</td>\n",
       "    </tr>\n",
       "    <tr>\n",
       "      <th>168</th>\n",
       "      <td>1229</td>\n",
       "      <td>TPTCL04</td>\n",
       "    </tr>\n",
       "    <tr>\n",
       "      <th>136</th>\n",
       "      <td>1120</td>\n",
       "      <td>LTGOB01</td>\n",
       "    </tr>\n",
       "    <tr>\n",
       "      <th>3</th>\n",
       "      <td>1066</td>\n",
       "      <td>BEAGU04</td>\n",
       "    </tr>\n",
       "  </tbody>\n",
       "</table>\n",
       "</div>"
      ],
      "text/plain": [
       "        0        1\n",
       "169  5000  TPTCL05\n",
       "148  1800  TPDMA02\n",
       "168  1229  TPTCL04\n",
       "136  1120  LTGOB01\n",
       "3    1066  BEAGU04"
      ]
     },
     "execution_count": 278,
     "metadata": {},
     "output_type": "execute_result"
    }
   ],
   "source": [
    "temp1=cheqdet[['idproducto','cantidad','precio']]\n",
    "temp1.index=temp1.idproducto\n",
    "temp1=temp1.cantidad*temp1.precio\n",
    "a=(list(map(lambda x:np.sum(temp1.loc[x]),list(np.unique(temp1.index)))))\n",
    "b=list(np.unique(temp1.index))\n",
    "result1=np.transpose(pd.DataFrame([a,b])).sort_values([0],ascending=[0]).head()\n",
    "result1"
   ]
  },
  {
   "cell_type": "code",
   "execution_count": null,
   "metadata": {},
   "outputs": [],
   "source": []
  }
 ],
 "metadata": {
  "kernelspec": {
   "display_name": "Python 3",
   "language": "python",
   "name": "python3"
  },
  "language_info": {
   "codemirror_mode": {
    "name": "ipython",
    "version": 3
   },
   "file_extension": ".py",
   "mimetype": "text/x-python",
   "name": "python",
   "nbconvert_exporter": "python",
   "pygments_lexer": "ipython3",
   "version": "3.6.4"
  }
 },
 "nbformat": 4,
 "nbformat_minor": 2
}
