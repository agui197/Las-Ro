{
 "cells": [
  {
   "cell_type": "markdown",
   "metadata": {},
   "source": [
    "# Como el trabajo con DASH no funciono se usara plotly para los graficos interactivos"
   ]
  },
  {
   "cell_type": "code",
   "execution_count": null,
   "metadata": {
    "scrolled": true
   },
   "outputs": [],
   "source": [
    "import plotly.graph_objs as go\n",
    "fig= go.FigureWidget(\n",
    "    data=[\n",
    "        dict(\n",
    "            type='scattergl',\n",
    "            x=[1,2,3,4,5],\n",
    "            y=[3,6,8,4,7],\n",
    "            mode='markers',\n",
    "        )\n",
    "    ],\n",
    ")\n",
    "fig.layout.title=\"Ejemplo\"\n",
    "fig.layout.xaxis.title=\"X\"\n",
    "fig.layout.yaxis.title=\"Y\"\n",
    "fig2=fig\n",
    "test=fig.add_scatter(x=[1,2,3,4,5],y=[9,8,9,8,9])\n",
    "from ipywidgets import HBox,VBox\n",
    "VBox([fig,fig2,HBox([fig2,fig])])"
   ]
  },
  {
   "cell_type": "code",
   "execution_count": null,
   "metadata": {
    "scrolled": true
   },
   "outputs": [],
   "source": [
    "from plotly.offline import iplot, init_notebook_mode\n",
    "import plotly.graph_objs as go\n",
    "import plotly.io as pio\n",
    "\n",
    "import os\n",
    "import numpy as np\n",
    "init_notebook_mode(connected=True)\n",
    "N = 100\n",
    "x = np.random.rand(N)\n",
    "y = np.random.rand(N)\n",
    "colors = np.random.rand(N)\n",
    "sz = np.random.rand(N)*30\n",
    "\n",
    "fig = go.Figure()\n",
    "fig.add_scatter(x=x,\n",
    "                y=y,\n",
    "                mode='markers',\n",
    "                marker={'size': sz,\n",
    "                        'color': colors,\n",
    "                        'opacity': 0.6,\n",
    "                        'colorscale': 'Viridis'\n",
    "                       });\n",
    "iplot(fig)"
   ]
  },
  {
   "cell_type": "code",
   "execution_count": null,
   "metadata": {
    "scrolled": true
   },
   "outputs": [],
   "source": [
    "import plotly.offline as off\n",
    "\n",
    "off.init_notebook_mode(connected=True)\n",
    "\n",
    "subject = ['Moe','Larry','Curly','Moe','Larry','Curly','Moe','Larry','Curly','Moe','Larry','Curly']\n",
    "score = [1,6,2,8,2,9,4,5,1,5,2,8]\n",
    "\n",
    "data = [dict(\n",
    "  type = 'scatter',\n",
    "  x = subject,\n",
    "  y = score,\n",
    "  mode = 'markers',\n",
    "  transforms = [dict(\n",
    "    type = 'groupby',\n",
    "    groups = subject,\n",
    "    styles = [\n",
    "        dict(target = 'Moe', value = dict(marker = dict(color = 'blue'))),\n",
    "        dict(target = 'Larry', value = dict(marker = dict(color = 'red'))),\n",
    "        dict(target = 'Curly', value = dict(marker = dict(color = 'black')))\n",
    "    ]\n",
    "  )]\n",
    ")]\n",
    "\n",
    "off.iplot({'data': data}, validate=False)"
   ]
  },
  {
   "cell_type": "markdown",
   "metadata": {},
   "source": [
    "# Para leer los datos directos del sistema se utilizaran las librerias para manejar archivos XML"
   ]
  },
  {
   "cell_type": "code",
   "execution_count": 1,
   "metadata": {},
   "outputs": [
    {
     "data": {
      "text/html": [
       "<script type=\"text/javascript\">window.PlotlyConfig = {MathJaxConfig: 'local'};</script><script type=\"text/javascript\">if (window.MathJax) {MathJax.Hub.Config({SVG: {font: \"STIX-Web\"}});}</script><script>requirejs.config({paths: { 'plotly': ['https://cdn.plot.ly/plotly-latest.min']},});if(!window._Plotly) {require(['plotly'],function(plotly) {window._Plotly=plotly;});}</script>"
      ],
      "text/vnd.plotly.v1+html": [
       "<script type=\"text/javascript\">window.PlotlyConfig = {MathJaxConfig: 'local'};</script><script type=\"text/javascript\">if (window.MathJax) {MathJax.Hub.Config({SVG: {font: \"STIX-Web\"}});}</script><script>requirejs.config({paths: { 'plotly': ['https://cdn.plot.ly/plotly-latest.min']},});if(!window._Plotly) {require(['plotly'],function(plotly) {window._Plotly=plotly;});}</script>"
      ]
     },
     "metadata": {},
     "output_type": "display_data"
    }
   ],
   "source": [
    "import pandas as pd\n",
    "import numpy as np\n",
    "import xml.etree.ElementTree\n",
    "import datetime\n",
    "import matplotlib.pyplot as plt\n",
    "import distutils\n",
    "from distutils import util\n",
    "import plotly.graph_objs as go\n",
    "from plotly.offline import iplot, init_notebook_mode\n",
    "import plotly.io as pio\n",
    "import os\n",
    "from ipywidgets import interactive, HBox, VBox\n",
    "\n",
    "\n",
    "init_notebook_mode(connected=True)\n",
    "\n",
    "def process_data(x):\n",
    "    e = xml.etree.ElementTree.parse(x).getroot()\n",
    "    df=pd.DataFrame(list(map(lambda y:list(map(lambda x: x.text,y)),e.getchildren())))\n",
    "    cols=list(map(lambda x:x.tag,e.getchildren()[1].getchildren()))\n",
    "    df.columns=cols\n",
    "    df.index=df.iloc[:,0]\n",
    "    #df=df.drop('usuarioapertura',axis=1)\n",
    "    df=np.transpose(np.transpose(df).loc[~pd.isnull(np.transpose(df.iloc[1,:]))]).iloc[1:len(df),:]\n",
    "    return df"
   ]
  },
  {
   "cell_type": "code",
   "execution_count": 2,
   "metadata": {},
   "outputs": [
    {
     "name": "stderr",
     "output_type": "stream",
     "text": [
      "C:\\ProgramData\\Anaconda3\\lib\\site-packages\\pandas\\core\\frame.py:6211: FutureWarning:\n",
      "\n",
      "Sorting because non-concatenation axis is not aligned. A future version\n",
      "of pandas will change to not sort by default.\n",
      "\n",
      "To accept the future behavior, pass 'sort=False'.\n",
      "\n",
      "To retain the current behavior and silence the warning, pass 'sort=True'.\n",
      "\n",
      "\n"
     ]
    }
   ],
   "source": [
    "df=process_data('cheques_I.xml')\n",
    "df1=process_data('cheques_P.xml')\n",
    "df2=process_data('cheques_T.xml')\n",
    "df=df.append(df1).append(df2)\n",
    "df=df.drop('usuarioapertura',axis=1)\n",
    "df\n",
    "cheqdet=process_data('cheqdet.xml')"
   ]
  },
  {
   "cell_type": "markdown",
   "metadata": {},
   "source": [
    "# DATOS DE PEDIDOS desde SQL"
   ]
  },
  {
   "cell_type": "code",
   "execution_count": 3,
   "metadata": {},
   "outputs": [],
   "source": [
    "import pyodbc \n",
    "cnxn = pyodbc.connect(DRIVER='{SQL Server}',\n",
    "                      Server='{VENTAS-6\\\\NATIONALSOFT}',\n",
    "                      Database='{Softrestaurant95Centralizador}',\n",
    "                      Trusted_Connection='yes',)\n",
    "\n",
    "\n",
    "cursor = cnxn.cursor()"
   ]
  },
  {
   "cell_type": "markdown",
   "metadata": {},
   "source": [
    "### Conversion datos extraidos de SQL en datos manejables"
   ]
  },
  {
   "cell_type": "code",
   "execution_count": 18,
   "metadata": {},
   "outputs": [],
   "source": [
    "pedidosdet=pd.read_sql('select * from dbo.pedidosdetalle',cnxn)\n",
    "sucursales={'01':1,'06':1,'16':1,'17':1,'10':2,'11':2,'12':2,'13':3,'14':3,'15':3,'18':4,'19':4,'20':4}\n",
    "pedidosdet.idalmacen=pd.DataFrame({'idalmacen':pedidosdet.idalmacen.apply(lambda x:sucursales[x])})\n",
    "\n",
    "\n",
    "pedidos=pd.read_sql('select * from dbo.pedidos',cnxn)\n",
    "pedidos.idempresa=pd.DataFrame({'idempresa':pedidos.idempresa.apply(lambda x:int(x))})\n"
   ]
  },
  {
   "cell_type": "markdown",
   "metadata": {},
   "source": [
    "### Convertir datos extraidos del archivo cheques en datos manejables"
   ]
  },
  {
   "cell_type": "code",
   "execution_count": 5,
   "metadata": {},
   "outputs": [],
   "source": [
    "df['fecha']=list(map(lambda x:np.datetime64(x),df['fecha']))\n",
    "df['cierre']=list(map(lambda x:np.datetime64(x),df['cierre']))\n",
    "#x.astype('M8[ms]').astype('O').hour\n",
    "df['total']=list(map(lambda x:float(x),df['total']))\n",
    "df['totalalimentos']=list(map(lambda x:float(x),df['totalalimentos']))\n",
    "df['totalbebidas']=list(map(lambda x:float(x),df['totalbebidas']))\n",
    "df['totalotros']=list(map(lambda x:float(x),df['totalotros']))\n",
    "df['totaldescuentoalimentos']=list(map(lambda x:float(x),df['totaldescuentoalimentos']))\n",
    "df['totaldescuentobebidas']=list(map(lambda x:float(x),df['totaldescuentobebidas']))\n",
    "df['totaldescuentobebidas']=list(map(lambda x:float(x),df['totaldescuentobebidas']))\n",
    "df['efectivo']=list(map(lambda x:float(x),df['efectivo']))\n",
    "df['tarjeta']=list(map(lambda x:float(x),df['tarjeta']))\n",
    "df['nopersonas']=list(map(lambda x:int(x),df['nopersonas']))\n",
    "df['cancelado']=list(map(lambda x:distutils.util.strtobool(x),df['cancelado']))\n",
    "df['idempresa']=list(map(lambda x:int(x),df['idempresa']))\n",
    "\n",
    "#df.columns.tolist()"
   ]
  },
  {
   "cell_type": "markdown",
   "metadata": {},
   "source": [
    "### Convertir datos extraidos del archivo cheqdet en datos manejables"
   ]
  },
  {
   "cell_type": "code",
   "execution_count": 6,
   "metadata": {},
   "outputs": [],
   "source": [
    "cheqdet['hora']=list(map(lambda x:np.datetime64(x),cheqdet['hora']))\n",
    "#x.astype('M8[ms]').astype('O').hour\n",
    "cheqdet['precio']=list(map(lambda x:float(x),cheqdet['precio']))\n",
    "cheqdet['cantidad']=list(map(lambda x:float(x),cheqdet['cantidad']))\n",
    "cheqdet['movimiento']=list(map(lambda x:float(x),cheqdet['movimiento']))\n"
   ]
  },
  {
   "cell_type": "markdown",
   "metadata": {},
   "source": [
    "# DashBoard"
   ]
  },
  {
   "cell_type": "code",
   "execution_count": 160,
   "metadata": {},
   "outputs": [
    {
     "ename": "IndentationError",
     "evalue": "expected an indented block (<ipython-input-160-d9f9cc2483d8>, line 58)",
     "output_type": "error",
     "traceback": [
      "\u001b[1;36m  File \u001b[1;32m\"<ipython-input-160-d9f9cc2483d8>\"\u001b[1;36m, line \u001b[1;32m58\u001b[0m\n\u001b[1;33m    pie_chart=plotting(df,cheqdet)\u001b[0m\n\u001b[1;37m                                  ^\u001b[0m\n\u001b[1;31mIndentationError\u001b[0m\u001b[1;31m:\u001b[0m expected an indented block\n"
     ]
    }
   ],
   "source": [
    "def product_total(x):\n",
    "    return np.sum(x.cantidad*x.precio)\n",
    "\n",
    "class plotting:\n",
    "    \n",
    "    def __init__(self,df,cheqdet):\n",
    "        self.fig=go.Figure()\n",
    "        self.df=df\n",
    "        self.original=df\n",
    "        self.cheqdet=cheqdet\n",
    "        self.Ocheqdet=cheqdet\n",
    "    \n",
    "        \n",
    "    def update_Date(self,HOUR,MONTH):\n",
    "        self.df=self.original\n",
    "        self.df = self.df[[a and b for a,b in zip(list(map(lambda x: x.month==MONTH,self.df.fecha)),list(map(lambda x: x.hour==HOUR,self.df.fecha)))]]\n",
    "        self.cheques_graph()\n",
    "        \n",
    "    def update_Suc(self,MONTH,YEAR):\n",
    "        self.cheqdet=self.Ocheqdet\n",
    "        self.cheqdet = self.cheqdet[[a and b for a,b in zip(list(map(lambda x: x.month==MONTH,self.cheqdet.hora)),list(map(lambda x: x.year==YEAR,self.cheqdet.hora)))]]\n",
    "        self.cheqdet_graph()\n",
    "        \n",
    "    def cheques_graph(self):\n",
    "        self.fig=go.Figure()\n",
    "        self.fig.add_pie=self.fig.add_pie(labels=list(map(lambda x:x.weekday(),self.df.fecha)),values=self.df.total,);\n",
    "        iplot(self.fig)\n",
    "        \n",
    "        self.Enterprise_pie=go.Figure()\n",
    "        self.Enterprise_pie.add_pie=self.Enterprise_pie.add_pie(labels=self.df.idempresa,values=self.df.total,);\n",
    "        iplot(self.Enterprise_pie)\n",
    "    \n",
    "    def cheqdet_graph(self):\n",
    "        self.Product_pie=go.Figure()\n",
    "        self.Product_pie.add_pie=self.Product_pie.add_pie(labels=self.cheqdet.idproducto,values=self.cheqdet.cantidad,);\n",
    "        iplot(self.Product_pie)\n",
    "        \n",
    "        self.Product_top5=go.Figure()\n",
    "        result=pd.DataFrame(self.cheqdet.groupby('idproducto').apply(product_total)).sort_values([0],ascending=[0]).head()\n",
    "        self.Product_top5.add_table=self.Product_top5.add_table(header = dict(\n",
    "            values = list(['top5','cantidad']),\n",
    "            line = dict(color = 'black'),\n",
    "            fill = dict(color='#C2D4FF'),\n",
    "            align = 'center',\n",
    "            font = dict(color = 'black', size = 12)\n",
    "            ),\n",
    "        cells = dict(\n",
    "            values = [result.index,result[0]],\n",
    "            align = 'center',\n",
    "            font = dict(color = 'black', size = 11),\n",
    "            fill = dict(color='#F5F8FF')\n",
    "            ))\n",
    "        iplot(self.Product_top5)\n",
    "        \n",
    "    def pedidosdet_graph(self):\n",
    "        self.Pedidos_trace=go.Trace()\n",
    "        \n",
    "        \n",
    "\n"
   ]
  },
  {
   "cell_type": "code",
   "execution_count": null,
   "metadata": {},
   "outputs": [],
   "source": [
    "pie_chart=plotting(df,cheqdet)\n",
    "freq_slider = interactive(pie_chart.update_Date, HOUR=(9, 22, 1),MONTH=(1, 12, 1))\n",
    "suc_slider = interactive(pie_chart.update_Suc,MONTH=(1, 12, 1), YEAR=(2018, 2019, 1))\n",
    "freq_slider\n",
    "display(VBox([freq_slider,suc_slider]))"
   ]
  },
  {
   "cell_type": "code",
   "execution_count": 97,
   "metadata": {},
   "outputs": [
    {
     "data": {
      "text/plain": [
       "[False, False]"
      ]
     },
     "execution_count": 97,
     "metadata": {},
     "output_type": "execute_result"
    }
   ],
   "source": [
    "x=[False,True] \n",
    "y=[False,True]\n",
    "z=[False,False]\n",
    "[a and b for a,b in zip([a and b for a, b in zip(x, y)],z)]"
   ]
  },
  {
   "cell_type": "markdown",
   "metadata": {},
   "source": [
    "# Traces"
   ]
  },
  {
   "cell_type": "code",
   "execution_count": 25,
   "metadata": {
    "scrolled": true
   },
   "outputs": [
    {
     "name": "stderr",
     "output_type": "stream",
     "text": [
      "C:\\ProgramData\\Anaconda3\\lib\\site-packages\\plotly\\graph_objs\\_deprecations.py:672: DeprecationWarning:\n",
      "\n",
      "plotly.graph_objs.Trace is deprecated.\n",
      "Please replace it with one of the following more specific types\n",
      "  - plotly.graph_objs.Scatter\n",
      "  - plotly.graph_objs.Bar\n",
      "  - plotly.graph_objs.Area\n",
      "  - plotly.graph_objs.Histogram\n",
      "  - etc.\n",
      "\n",
      "\n"
     ]
    }
   ],
   "source": [
    "def series_values(temp,fecha):\n",
    "    y=temp.groupby(fecha.dt.day)['total'].sum()\n",
    "    x=pd.date_range(start=pd.Timestamp(2019,2,1), freq='D',periods=len(y))\n",
    "    trace=go.Trace(x=x,y=y)\n",
    "    return trace\n",
    "\n",
    "temp=pedidos[[a and b for a,b in zip([a and b for a,b in zip(list(map(lambda x: x.month==2,pedidos.fechahoraenviado)),list(map(lambda x: x.year==2019,pedidos.fechahoraenviado)))],list(map(lambda x: x==2,pedidos.idempresa)))]]\n",
    "trace=series_values(temp,temp.fechahoraenviado)\n",
    "temp2=df[[a and b for a,b in zip([a and b for a,b in zip(list(map(lambda x: x.month==2,df.fecha)),list(map(lambda x: x.year==2019,df.fecha)))],list(map(lambda x: x==2,df.idempresa)))]]\n",
    "trace2=series_values(temp2,temp2.fecha)\n"
   ]
  },
  {
   "cell_type": "code",
   "execution_count": 26,
   "metadata": {},
   "outputs": [
    {
     "data": {
      "application/vnd.plotly.v1+json": {
       "config": {
        "linkText": "Export to plot.ly",
        "plotlyServerURL": "https://plot.ly",
        "showLink": false
       },
       "data": [
        {
         "type": "scatter",
         "uid": "b3b54c98-6c23-4d2e-bf4b-1235c7d74376",
         "x": [
          "2019-02-01",
          "2019-02-02",
          "2019-02-03",
          "2019-02-04",
          "2019-02-05",
          "2019-02-06",
          "2019-02-07",
          "2019-02-08",
          "2019-02-09",
          "2019-02-10",
          "2019-02-11",
          "2019-02-12",
          "2019-02-13",
          "2019-02-14",
          "2019-02-15",
          "2019-02-16"
         ],
         "y": [
          7607.3234999999995,
          4477.2277,
          5292.6847,
          3031.8347,
          5707.334900000001,
          5044.1511,
          3094.7839999999997,
          5642.3898,
          3592.0009,
          2941.9829,
          2183.5632,
          7577.5447,
          11934.2847,
          3700.8034,
          2986.5144,
          2635.5072
         ]
        },
        {
         "type": "scatter",
         "uid": "0c5b7e19-5ed1-41fb-9331-b046a5fda307",
         "x": [
          "2019-02-01",
          "2019-02-02",
          "2019-02-03",
          "2019-02-04",
          "2019-02-05",
          "2019-02-06",
          "2019-02-07",
          "2019-02-08",
          "2019-02-09",
          "2019-02-10"
         ],
         "y": [
          6893,
          5584,
          11573,
          10582,
          2864,
          4257,
          3440,
          4256,
          10110,
          14486
         ]
        }
       ],
       "layout": {
        "title": {
         "text": "Venta vs Pedido"
        },
        "xaxis": {
         "zeroline": false
        },
        "yaxis": {
         "zeroline": false
        }
       }
      },
      "text/html": [
       "<div id=\"44a5dc19-c3ef-4817-bf9e-7a265bffaa86\" style=\"height: 525px; width: 100%;\" class=\"plotly-graph-div\"></div><script type=\"text/javascript\">require([\"plotly\"], function(Plotly) { window.PLOTLYENV=window.PLOTLYENV || {};window.PLOTLYENV.BASE_URL=\"https://plot.ly\";Plotly.newPlot(\"44a5dc19-c3ef-4817-bf9e-7a265bffaa86\", [{\"x\": [\"2019-02-01\", \"2019-02-02\", \"2019-02-03\", \"2019-02-04\", \"2019-02-05\", \"2019-02-06\", \"2019-02-07\", \"2019-02-08\", \"2019-02-09\", \"2019-02-10\", \"2019-02-11\", \"2019-02-12\", \"2019-02-13\", \"2019-02-14\", \"2019-02-15\", \"2019-02-16\"], \"y\": [7607.3234999999995, 4477.2277, 5292.6847, 3031.8347, 5707.334900000001, 5044.1511, 3094.7839999999997, 5642.3898, 3592.0009, 2941.9829, 2183.5632, 7577.5447, 11934.2847, 3700.8034, 2986.5144, 2635.5072], \"type\": \"scatter\", \"uid\": \"6d07596e-0616-4236-a12f-7a620c615ccc\"}, {\"x\": [\"2019-02-01\", \"2019-02-02\", \"2019-02-03\", \"2019-02-04\", \"2019-02-05\", \"2019-02-06\", \"2019-02-07\", \"2019-02-08\", \"2019-02-09\", \"2019-02-10\"], \"y\": [6893.0, 5584.0, 11573.0, 10582.0, 2864.0, 4257.0, 3440.0, 4256.0, 10110.0, 14486.0], \"type\": \"scatter\", \"uid\": \"bd79a699-c6c4-4f5d-9843-b0805b02a8f3\"}], {\"title\": {\"text\": \"Venta vs Pedido\"}, \"xaxis\": {\"zeroline\": false}, \"yaxis\": {\"zeroline\": false}}, {\"showLink\": false, \"linkText\": \"Export to plot.ly\", \"plotlyServerURL\": \"https://plot.ly\"})});</script><script type=\"text/javascript\">window.addEventListener(\"resize\", function(){window._Plotly.Plots.resize(document.getElementById(\"44a5dc19-c3ef-4817-bf9e-7a265bffaa86\"));});</script>"
      ],
      "text/vnd.plotly.v1+html": [
       "<div id=\"44a5dc19-c3ef-4817-bf9e-7a265bffaa86\" style=\"height: 525px; width: 100%;\" class=\"plotly-graph-div\"></div><script type=\"text/javascript\">require([\"plotly\"], function(Plotly) { window.PLOTLYENV=window.PLOTLYENV || {};window.PLOTLYENV.BASE_URL=\"https://plot.ly\";Plotly.newPlot(\"44a5dc19-c3ef-4817-bf9e-7a265bffaa86\", [{\"x\": [\"2019-02-01\", \"2019-02-02\", \"2019-02-03\", \"2019-02-04\", \"2019-02-05\", \"2019-02-06\", \"2019-02-07\", \"2019-02-08\", \"2019-02-09\", \"2019-02-10\", \"2019-02-11\", \"2019-02-12\", \"2019-02-13\", \"2019-02-14\", \"2019-02-15\", \"2019-02-16\"], \"y\": [7607.3234999999995, 4477.2277, 5292.6847, 3031.8347, 5707.334900000001, 5044.1511, 3094.7839999999997, 5642.3898, 3592.0009, 2941.9829, 2183.5632, 7577.5447, 11934.2847, 3700.8034, 2986.5144, 2635.5072], \"type\": \"scatter\", \"uid\": \"6d07596e-0616-4236-a12f-7a620c615ccc\"}, {\"x\": [\"2019-02-01\", \"2019-02-02\", \"2019-02-03\", \"2019-02-04\", \"2019-02-05\", \"2019-02-06\", \"2019-02-07\", \"2019-02-08\", \"2019-02-09\", \"2019-02-10\"], \"y\": [6893.0, 5584.0, 11573.0, 10582.0, 2864.0, 4257.0, 3440.0, 4256.0, 10110.0, 14486.0], \"type\": \"scatter\", \"uid\": \"bd79a699-c6c4-4f5d-9843-b0805b02a8f3\"}], {\"title\": {\"text\": \"Venta vs Pedido\"}, \"xaxis\": {\"zeroline\": false}, \"yaxis\": {\"zeroline\": false}}, {\"showLink\": false, \"linkText\": \"Export to plot.ly\", \"plotlyServerURL\": \"https://plot.ly\"})});</script><script type=\"text/javascript\">window.addEventListener(\"resize\", function(){window._Plotly.Plots.resize(document.getElementById(\"44a5dc19-c3ef-4817-bf9e-7a265bffaa86\"));});</script>"
      ]
     },
     "metadata": {},
     "output_type": "display_data"
    }
   ],
   "source": [
    "\n",
    "\n",
    "data = [trace,trace2]\n",
    "\n",
    "layout = dict(title = 'Venta vs Pedido',\n",
    "              yaxis = dict(zeroline = False),\n",
    "              xaxis = dict(zeroline = False)\n",
    "             )\n",
    "\n",
    "fig = dict(data=data, layout=layout)\n",
    "iplot(fig, filename='styled-scatter')"
   ]
  },
  {
   "cell_type": "code",
   "execution_count": null,
   "metadata": {},
   "outputs": [],
   "source": [
    "# codigo para acceder a la base de datos desde sql\n",
    "# select * from [softrestaurant95pro].dbo.[cheques]"
   ]
  },
  {
   "cell_type": "code",
   "execution_count": null,
   "metadata": {},
   "outputs": [],
   "source": []
  }
 ],
 "metadata": {
  "kernelspec": {
   "display_name": "Python 3",
   "language": "python",
   "name": "python3"
  },
  "language_info": {
   "codemirror_mode": {
    "name": "ipython",
    "version": 3
   },
   "file_extension": ".py",
   "mimetype": "text/x-python",
   "name": "python",
   "nbconvert_exporter": "python",
   "pygments_lexer": "ipython3",
   "version": "3.6.4"
  }
 },
 "nbformat": 4,
 "nbformat_minor": 2
}
